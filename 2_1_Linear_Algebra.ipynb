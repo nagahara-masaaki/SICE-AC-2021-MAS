{
  "nbformat": 4,
  "nbformat_minor": 0,
  "metadata": {
    "colab": {
      "name": "Springer_Linear_Algebra.ipynb",
      "provenance": []
    },
    "kernelspec": {
      "name": "python3",
      "display_name": "Python 3"
    }
  },
  "cells": [
    {
      "cell_type": "markdown",
      "metadata": {
        "id": "OHBlNlpA3M3R"
      },
      "source": [
        "# 2. Linear Algebra and Graph Theory"
      ]
    },
    {
      "cell_type": "markdown",
      "metadata": {
        "id": "2vbOqHWP3SBs"
      },
      "source": [
        "**Abstract:** This lecture gives facts and theorems from linear algebra and graph theory that are important and used in control of multi-agent systems. Python codes are also provided, by which you obtain numerical results and well understand the mathematical facts. \n"
      ]
    },
    {
      "cell_type": "markdown",
      "metadata": {
        "id": "tIW6YVNO32Bp"
      },
      "source": [
        "**Key Points**\n",
        "- To analyze a graph (or a network), the **graph Laplacian** and the **Perron matrix** play an important role.\n",
        "- The graph Laplacian (resp. the Perron matrix) has at least **one eigenvalue of 0** (resp. **1**).\n",
        "- The **connectivity** of a graph can be analyzed by the **multiplicity of the 0 (resp. 1) eigenvalue** of the graph Laplacian (resp. the Perron matrix).\n",
        "- **NumPy** and **NetworkX** packages are useful for computations in linear algebra and graph theory, respectively."
      ]
    },
    {
      "cell_type": "markdown",
      "metadata": {
        "id": "sBkupZja4ZLR"
      },
      "source": [
        "## 2.1 Coding in Python\n",
        "In this lecture, we in particular introduce some facts and techniques in linear algebra and graph theory. For this purpose, we first need to **import useful packages** in Python. Namely, coding in Python starts with the following lines:\n"
      ]
    },
    {
      "cell_type": "code",
      "metadata": {
        "id": "xMDHJjVdH43X"
      },
      "source": [
        "# Common initialization\n",
        "import numpy as np\n",
        "import networkx as nx\n",
        "import numpy.linalg as LA"
      ],
      "execution_count": 1,
      "outputs": []
    },
    {
      "cell_type": "markdown",
      "metadata": {
        "id": "yE6ErYoX40eV"
      },
      "source": [
        "For simplicity, we set floating point precision of matrices and vectors to 2 by:"
      ]
    },
    {
      "cell_type": "code",
      "metadata": {
        "id": "u-2ldNIU47Fm"
      },
      "source": [
        "np.set_printoptions(precision=2)"
      ],
      "execution_count": 13,
      "outputs": []
    },
    {
      "cell_type": "markdown",
      "metadata": {
        "id": "Ui2bSuGp4_6f"
      },
      "source": [
        "## 2.2 Linear Algebra\n",
        "In this section, we will introduce important facts and theorems in **linear algebra** with **Python codes**. They will be used for analysis and design of multi-agent systems."
      ]
    },
    {
      "cell_type": "markdown",
      "metadata": {
        "id": "T5QTSaHS5VgQ"
      },
      "source": [
        "### 2.2.1 Finite-dimensional Vector Space\n",
        "Matrices and vectors are defined in Python using ``array`` function in NumPy (``np``).\n",
        "\n",
        "For example, \n",
        "$$\n",
        "x = \\begin{bmatrix}1\\\\2\\end{bmatrix},\\quad\n",
        "A = \\begin{bmatrix}1&2\\\\3&4\\end{bmatrix}\n",
        "$$\n",
        "are defined as:"
      ]
    },
    {
      "cell_type": "code",
      "metadata": {
        "id": "y3cN5Trd7mj2"
      },
      "source": [
        "x = np.array([1,2])\n",
        "A = np.array([[1,2],[3,4]]) "
      ],
      "execution_count": 5,
      "outputs": []
    },
    {
      "cell_type": "markdown",
      "metadata": {
        "id": "zM04pz7p8P7b"
      },
      "source": [
        "**Matrix-vector multiplication** $Ax$ is obtained by\n",
        "``dot`` function of NumPy as\n"
      ]
    },
    {
      "cell_type": "code",
      "metadata": {
        "colab": {
          "base_uri": "https://localhost:8080/"
        },
        "id": "c15lRCYe8agy",
        "outputId": "715c259f-f8ea-4f11-d2bf-a2e5cb4ac43e"
      },
      "source": [
        "b = np.dot(A,x)\n",
        "print(b)"
      ],
      "execution_count": 7,
      "outputs": [
        {
          "output_type": "stream",
          "name": "stdout",
          "text": [
            "[ 5 11]\n"
          ]
        }
      ]
    },
    {
      "cell_type": "markdown",
      "metadata": {
        "id": "ZZ0kpcvP8-k_"
      },
      "source": [
        "Note that ``x`` is a row vector but you do not need to transpose ``x`` before multiplying it by ``A``. The result is given by ``[ 5 11]``, a row vector.\n"
      ]
    },
    {
      "cell_type": "markdown",
      "metadata": {
        "id": "3NXuyN8__dVw"
      },
      "source": [
        "---"
      ]
    },
    {
      "cell_type": "markdown",
      "metadata": {
        "id": "dl-82In-9cz8"
      },
      "source": [
        "The **norm** of $b=Ax$ is computed by using ``norm`` function in ``numpy.linalg`` submodule, abbreviated as ``LA``:"
      ]
    },
    {
      "cell_type": "code",
      "metadata": {
        "colab": {
          "base_uri": "https://localhost:8080/"
        },
        "id": "JHnbB-et9jiN",
        "outputId": "e7d82925-50d9-4922-bdd5-e2c742ec910a"
      },
      "source": [
        "norm_b = LA.norm(b, ord=2)\n",
        "print(norm_b)"
      ],
      "execution_count": 11,
      "outputs": [
        {
          "output_type": "stream",
          "name": "stdout",
          "text": [
            "12.083045973594572\n"
          ]
        }
      ]
    },
    {
      "cell_type": "markdown",
      "metadata": {
        "id": "WyzrL0jA-AqH"
      },
      "source": [
        "The second argument `ord=2` indicates the norm is computed with $\\ell^2$ norm. If you want to compute the $\\ell^1$ norm instead, then you just change it to `ord=1` as:\n"
      ]
    },
    {
      "cell_type": "code",
      "metadata": {
        "colab": {
          "base_uri": "https://localhost:8080/"
        },
        "id": "yRBPMQ3c_DZM",
        "outputId": "21d8f170-57f5-4068-eb50-2679a5f8db5d"
      },
      "source": [
        "print(LA.norm(b, ord=1))"
      ],
      "execution_count": 14,
      "outputs": [
        {
          "output_type": "stream",
          "name": "stdout",
          "text": [
            "16.0\n"
          ]
        }
      ]
    },
    {
      "cell_type": "markdown",
      "metadata": {
        "id": "OtlONp97_Dqw"
      },
      "source": [
        "The rank of $A$ is also easily computed as"
      ]
    },
    {
      "cell_type": "code",
      "metadata": {
        "colab": {
          "base_uri": "https://localhost:8080/"
        },
        "id": "gD5vlA8W_kc5",
        "outputId": "2364382f-f8ea-4e00-9563-0f51e82e129a"
      },
      "source": [
        "print(LA.matrix_rank(A))"
      ],
      "execution_count": 15,
      "outputs": [
        {
          "output_type": "stream",
          "name": "stdout",
          "text": [
            "2\n"
          ]
        }
      ]
    },
    {
      "cell_type": "markdown",
      "metadata": {
        "id": "eb97yTviCJBh"
      },
      "source": [
        "---"
      ]
    },
    {
      "cell_type": "markdown",
      "metadata": {
        "id": "EEBsW2Mf_qme"
      },
      "source": [
        "**Theorem (orthogonal decomposition):**  If a matrix $A\\in{\\mathbb R}^{m\\times n}$ satisfies\n",
        "\n",
        "$$\n",
        "    \\mathrm{rank}(A) = n\n",
        "$$\n",
        "\n",
        "   then $A^\\top A$ is non-singular. In this case,\n",
        "   for any vector $x\\in\\mathbb{R}^m$ there uniquely exist\n",
        "   $y \\in {\\mathcal S}\\triangleq {\\rm imag}(A)$ and $z\\in {\\mathcal S}^\\perp$, the orthogonal complement of ${\\mathcal S}$,\n",
        "   such that $x=y+z$, and these vectors are given by\n",
        "\n",
        "$$\n",
        "    y = A(A^\\top A)^{-1}A^\\top x,\\quad  z = (I-A(A^\\top A)^{-1}A^\\top)x.\n",
        "$$\n"
      ]
    },
    {
      "cell_type": "markdown",
      "metadata": {
        "id": "u43d94RjAzE9"
      },
      "source": [
        "Let's compute the matrices $P = A(A^\\top A)^{-1}A^\\top$ and $Q = I-P$ in the orthogonal decomposition."
      ]
    },
    {
      "cell_type": "markdown",
      "metadata": {
        "id": "Yv4IpwSoBetV"
      },
      "source": [
        "- Define the following $3\\times 2$ matrix:\n",
        "$$\n",
        " A = \\begin{bmatrix}1&2\\\\3&4\\\\5&6\\end{bmatrix}.\n",
        "$$"
      ]
    },
    {
      "cell_type": "code",
      "metadata": {
        "id": "v6hkhNkIBW8J"
      },
      "source": [
        "A = np.array([[1,2],[3,4],[5,6]])"
      ],
      "execution_count": 17,
      "outputs": []
    },
    {
      "cell_type": "markdown",
      "metadata": {
        "id": "MJhYe8TlB7p_"
      },
      "source": [
        "- Compute the **rank** of $A$ by `matrix_rank` funciton in `numpy.linalg` (`LA`)"
      ]
    },
    {
      "cell_type": "code",
      "metadata": {
        "colab": {
          "base_uri": "https://localhost:8080/"
        },
        "id": "6ZvjGTDNB_9m",
        "outputId": "40bff025-32d1-4e02-a1c9-dd6bf278d7dc"
      },
      "source": [
        "print(LA.matrix_rank(A))"
      ],
      "execution_count": 21,
      "outputs": [
        {
          "output_type": "stream",
          "name": "stdout",
          "text": [
            "2\n"
          ]
        }
      ]
    },
    {
      "cell_type": "markdown",
      "metadata": {
        "id": "ACgsG6qcCobH"
      },
      "source": [
        "- The rank of $A$ is 2, and hence the image of matrix $A$ is \n",
        "a 2-dimensional linear subspace of $\\mathbb{R}^3$. Therefore, $A^\\top A$ is non-singular.\n",
        "So we can compute $P = A(A^\\top A)^{-1}A^\\top$ as:"
      ]
    },
    {
      "cell_type": "code",
      "metadata": {
        "id": "5Dkigz6nC92h"
      },
      "source": [
        "B = np.dot(A.T,A)\n",
        "C = LA.inv(B)\n",
        "P = LA.multi_dot([A,C,A.T])"
      ],
      "execution_count": 22,
      "outputs": []
    },
    {
      "cell_type": "markdown",
      "metadata": {
        "id": "4056bLnvDBeo"
      },
      "source": [
        "- The first line computes $B = A^\\top A$, where\n",
        "`A.T` is the **transpose** of `A`.\n",
        "- The second line computes the **inverse** of $B=A^\\top A$\n",
        "using `inv` function in `linalg` submodule of NumPy.\n",
        "- The third line gives $P=A(A^\\top A)^{-1}A^\\top$,\n",
        "where `multi_dot` can compute the **product of two or more matrices**.\n",
        "- Finally, we compute $Q=I-P$ as:"
      ]
    },
    {
      "cell_type": "code",
      "metadata": {
        "id": "n8t91SKVD0-a"
      },
      "source": [
        "Q = np.eye(3) - P"
      ],
      "execution_count": 23,
      "outputs": []
    },
    {
      "cell_type": "markdown",
      "metadata": {
        "id": "j_oRqtspD3A5"
      },
      "source": [
        "where `np.eye(3)` is the **identity matrix** of size $3\\times 3$. The matrices $P$ and $Q$ are given as"
      ]
    },
    {
      "cell_type": "code",
      "metadata": {
        "colab": {
          "base_uri": "https://localhost:8080/"
        },
        "id": "OmUWzjXwEFZ_",
        "outputId": "3792bd63-dddf-4217-ddf4-d8472a46ffb2"
      },
      "source": [
        "print(P)"
      ],
      "execution_count": 25,
      "outputs": [
        {
          "output_type": "stream",
          "name": "stdout",
          "text": [
            "[[ 0.83  0.33 -0.17]\n",
            " [ 0.33  0.33  0.33]\n",
            " [-0.17  0.33  0.83]]\n"
          ]
        }
      ]
    },
    {
      "cell_type": "code",
      "metadata": {
        "colab": {
          "base_uri": "https://localhost:8080/"
        },
        "id": "DXi4Cb8PEJ_M",
        "outputId": "cf1116f6-661e-49f1-9dff-e559b0b3b92c"
      },
      "source": [
        "print(Q)"
      ],
      "execution_count": 26,
      "outputs": [
        {
          "output_type": "stream",
          "name": "stdout",
          "text": [
            "[[ 0.17 -0.33  0.17]\n",
            " [-0.33  0.67 -0.33]\n",
            " [ 0.17 -0.33  0.17]]\n"
          ]
        }
      ]
    },
    {
      "cell_type": "markdown",
      "metadata": {
        "id": "mQw40pSsJICD"
      },
      "source": [
        "### 2.2.1 Determinant\n",
        "Let us compute the **determinant** $\\mathrm{det}(A)$ with\n",
        "$$\n",
        " A = \\begin{bmatrix}2&3&0&1\\\\0&1&5&0\\\\1&0&0&4\\\\0&7&2&0\\end{bmatrix}\n",
        "$$\n",
        "Python can easily solve this by `det` funciton in `linalg`.\n"
      ]
    },
    {
      "cell_type": "code",
      "metadata": {
        "colab": {
          "base_uri": "https://localhost:8080/"
        },
        "id": "5PnRv3MFJX1H",
        "outputId": "8738969e-e78d-4890-cb11-249c552806eb"
      },
      "source": [
        "A = np.array([[2,3,0,1],[0,1,5,0],[1,0,0,4],[0,7,2,0]])\n",
        "d = LA.det(A)\n",
        "print(d)"
      ],
      "execution_count": 27,
      "outputs": [
        {
          "output_type": "stream",
          "name": "stdout",
          "text": [
            "230.99999999999994\n"
          ]
        }
      ]
    },
    {
      "cell_type": "markdown",
      "metadata": {
        "id": "BA2CNzKQKA-m"
      },
      "source": [
        "### 2.2.3 Positive and Non-negative Matrices\n",
        "**Definition (Positive and Non-negative Matrices):**\n",
        "Let us consider a matrix $A\\in {\\mathbb R}^{m\\times n}$.\n",
        "If the elements in $A$ are all **positive** (or **non-negative**),\n",
        "then $A$ is said to be **positive** (or **non-negative**).\n",
        "We write \n",
        "\n",
        "$$A>0 ~~~\\text{if $A$ is positive}$$\n",
        "\n",
        "and\n",
        "\n",
        "$$A\\geq 0 ~~~\\text{if $A$ is non-negative}$$."
      ]
    },
    {
      "cell_type": "markdown",
      "metadata": {
        "id": "O-H_yHFfKeAZ"
      },
      "source": [
        "**Definition (Stochastic matrices):**\n",
        "Let us consider a non-negative matrix $A=[a_{ij}]\\in{\\mathbb R}^{n\\times n}$.\n",
        "If the row sums of $A$ are all $1$, that is, if\n",
        "\n",
        "$$\n",
        "\ta_{i1}+a_{i2}+\\cdots+a_{in}=1\n",
        "$$\n",
        "\n",
        "holds for all $i\\in\\{1,2,\\ldots,n\\}$, then\n",
        "$A$ is said to be a **stochastic matrix**."
      ]
    },
    {
      "cell_type": "markdown",
      "metadata": {
        "id": "5Dnxs5DlK1po"
      },
      "source": [
        "- The condition $a_{i1}+a_{i2}+\\cdots+a_{in}=1$ for any $i$\n",
        "can be also written by\n",
        "\n",
        "$$\n",
        " A{\\mathbf 1}_n={\\mathbf 1}_n\n",
        "$$\n",
        "\n",
        "where ${\\mathbf 1}_n\\in\\mathbb{R}^n$ is a **vector of ones**, that is,\n",
        "\n",
        "$${\\mathbf 1}_n = [1,1,\\ldots,1]^\\top$$.\n",
        "\n",
        "- A stochastic matrix $A$ is said to be a **doubly stochastic matrix** if $A^\\top$ is also stochastic.\n"
      ]
    },
    {
      "cell_type": "markdown",
      "metadata": {
        "id": "wZTtF0dxLWwr"
      },
      "source": [
        "Let us consider the following matrix:\n",
        "\n",
        "$$\n",
        "\tA_1=\\frac{1}{4}\\begin{bmatrix}\n",
        "\t\t2 & 0 & 2\\\\\n",
        "\t\t1 & 2 & 1\\\\\n",
        "\t\t0 & 2 & 2\\\\\n",
        "\t\\end{bmatrix}.\n",
        "$$\n",
        "\n",
        "This is a stochastic matrix. Let's check this by Python by computing $A{\\mathbf 1}_n$.\n"
      ]
    },
    {
      "cell_type": "code",
      "metadata": {
        "colab": {
          "base_uri": "https://localhost:8080/"
        },
        "id": "qKsiaL3ALpAk",
        "outputId": "650c6d93-b1a2-453b-8429-0cc50492d910"
      },
      "source": [
        "A1 = np.array([[2,0,2],[1,2,1],[0,2,2]])/4\n",
        "v = np.ones(3)\n",
        "print(np.dot(A1,v))"
      ],
      "execution_count": 29,
      "outputs": [
        {
          "output_type": "stream",
          "name": "stdout",
          "text": [
            "[1. 1. 1.]\n"
          ]
        }
      ]
    },
    {
      "cell_type": "markdown",
      "metadata": {
        "id": "fhHbbQ7UL4tN"
      },
      "source": [
        "where `np.ones(3)` returns the vector of ones of size 3.\n",
        "From the result, we can say $A$ is stochastic."
      ]
    },
    {
      "cell_type": "markdown",
      "metadata": {
        "id": "bqhjdbryMW0n"
      },
      "source": [
        "Let us another matrix:\n",
        "\n",
        "$$\n",
        "\tA_2=\\frac{1}{4}\\begin{bmatrix}\n",
        "\t\t2 & 0 & 2\\\\\n",
        "\t\t1 & 2 & 1\\\\\n",
        "\t\t1 & 2 & 1\\\\\n",
        "\t\\end{bmatrix}.\n",
        "$$\n",
        "\n",
        "We will show this is doubly stochastic."
      ]
    },
    {
      "cell_type": "markdown",
      "metadata": {
        "id": "fdwxHS1ZMhNw"
      },
      "source": [
        "For this, we compute $A_2\\mathbf{1}_3$ and $A_2^\\top \\mathbf{1}_3$."
      ]
    },
    {
      "cell_type": "code",
      "metadata": {
        "colab": {
          "base_uri": "https://localhost:8080/"
        },
        "id": "hkSLEARkMrPV",
        "outputId": "9656e44d-fb3a-4e47-c6b7-cb256c463bc6"
      },
      "source": [
        "A2 = np.array([[2,0,2],[1,2,1],[1,2,1]])/4\n",
        "v = np.ones(3)\n",
        "print(np.dot(A2,v))\n",
        "print(np.dot(A2.T,v))"
      ],
      "execution_count": 30,
      "outputs": [
        {
          "output_type": "stream",
          "name": "stdout",
          "text": [
            "[1. 1. 1.]\n",
            "[1. 1. 1.]\n"
          ]
        }
      ]
    },
    {
      "cell_type": "markdown",
      "metadata": {
        "id": "JbHK17adMtsq"
      },
      "source": [
        "Hence $A_2$ is doubly stochastic."
      ]
    },
    {
      "cell_type": "markdown",
      "metadata": {
        "id": "9bc1751HM0OZ"
      },
      "source": [
        "### 2.2.4 Eigenvalues\n",
        "**Definition (Eigenvalues and eigenvectors):**\n",
        "Let us consider the following equation:\n",
        "\n",
        "$$\n",
        "\tAx = \\lambda x\n",
        "$$\n",
        "\n",
        "where $A\\in{\\mathbb R}^{n\\times n}$ is given and \n",
        "$x\\in{\\mathbb C}^n$ and $\\lambda\\in{\\mathbb C}$\n",
        "are unknown.\n",
        "If there exist a scalar $\\lambda$ and a non-zero vector $x$\n",
        "that satisfy the above equation, \n",
        "then $\\lambda$ is called an **eigenvalue** of $A$\n",
        "and $x$ is called an **eigenvector** of $A$ associated with $\\lambda$."
      ]
    },
    {
      "cell_type": "markdown",
      "metadata": {
        "id": "l8WR7G8NNWX6"
      },
      "source": [
        "**Definition (Left eigenvectors):**\n",
        "If there exists a non-zero row vector\n",
        "$\\xi\\in{\\mathbb C}^{1\\times n}$ and a scalar\n",
        "$\\lambda\\in{\\mathbb C}$ such that\n",
        "\n",
        "$$\n",
        " \\xi A = \\lambda \\xi\n",
        "$$\n",
        "\n",
        "holds, then $\\xi$ is called a **left eigenvector** associated with $\\lambda$.\n"
      ]
    },
    {
      "cell_type": "markdown",
      "metadata": {
        "id": "9GHIrZM8Vomo"
      },
      "source": [
        "**Theorem (eigenvalues):**\n",
        "1. A scalar $\\lambda\\in\\mathbb{C}$ is an eigenvalue of matrix\n",
        "$A\\in{\\mathbb R}^{n\\times n}$ if and only if \n",
        "the matrix  $\\lambda I-A$ is singular.\n",
        "2. A scalar $\\lambda\\in\\mathbb{C}$ is an eigenvalue of matrix\n",
        "$A\\in{\\mathbb R}^{n\\times n}$ if and only if \n",
        "$\\lambda$ is a root of the **characteristic polynomial**\n",
        "of $A$ defined by\n",
        "\n",
        "$$\n",
        "  p_A(s) := \\det(sI-A).\n",
        "$$\n",
        "\n",
        "\n"
      ]
    },
    {
      "cell_type": "markdown",
      "metadata": {
        "id": "QdIr2TAhWEO2"
      },
      "source": [
        "**Definition (multiplicity of eigenvalue):**\n",
        "- Every matrix $A\\in{\\mathbb R}^{n\\times n}$ has exactly $n$ eigenvalues counted with multiplicity.\n",
        "- The multiplicity of $\\lambda$ as a root of the characteristic polynomial $p_A$ is called the **algebraic multiplicity**.\n",
        "- The number of linearly independent eigenvectors associated with an eigenvalue $\\lambda$, or the dimension of \n",
        "\n",
        "$$\\ker(\\lambda I-A) = \\{x\\in\\mathbb{R}^n: (I-A)x=0\\}$$\n",
        "\n",
        "is called the **geometric multiplicity**.\n",
        "- Every eigenvalue has the geometric multiplicity greater than or equal to 1.\n",
        "- The geometric multiplicity is always less than or equal to the algebraic multiplicity.\n",
        "- An eigenvalue is said to be **simple** if its algebraic multiplicity is equal to 1, and hence its geometric multiplicity is also 1.\n",
        "- An eigenvalue is said to be **semi-simple** if its algebraic multiplicity is equal to its geometric multiplicity.\n",
        "- If all the eigenvalues are semi-simple, then the matrix is said to be a **semi-simple matrix**.\n"
      ]
    },
    {
      "cell_type": "markdown",
      "metadata": {
        "id": "hODofbrFW1Pz"
      },
      "source": [
        "---"
      ]
    },
    {
      "cell_type": "markdown",
      "metadata": {
        "id": "sTChfYrvW3Bn"
      },
      "source": [
        "**Example:** Let us consider the following matrix:\n",
        "\n",
        "$$\n",
        "\tA=\\left[\\begin{array}{ccc}1&0&0\\\\0&1&1\\\\0&0&1\\end{array}\\right].\n",
        "$$\n",
        "\n",
        "- The characteristic polynomial is given by\n",
        "$p_A(s) = \\det(sI-A) = (s-1)^3$.\n",
        "- The eigenvalues of $A$ are $\\{1,1,1\\}$ (multiplicity 3),\n",
        "and the algebraic multiplicity is 3.\n",
        "- On the other hand,\n",
        "there are two linearly independent eigenvectors associated with $\\lambda=1$,\n",
        "for example,\n",
        "$x_1=[1 \\ 0 \\ 0]^\\top$ and $x_2=[0 \\ 1 \\ 0]^\\top$,\n",
        "and hence the geometric multiplicity is 2 in this case.\n",
        "\n"
      ]
    },
    {
      "cell_type": "markdown",
      "metadata": {
        "id": "SWmtK9FbYGEA"
      },
      "source": [
        "Then, we try to check the above facts by using Python.\n",
        "The eigenvalues and corresponding eigenvectors can be computed as follows:"
      ]
    },
    {
      "cell_type": "code",
      "metadata": {
        "id": "p1YvR58ZYKUk"
      },
      "source": [
        "A = np.array([[1,0,0],[0,1,1],[0,0,1]])\n",
        "s, V = LA.eig(A)"
      ],
      "execution_count": 32,
      "outputs": []
    },
    {
      "cell_type": "markdown",
      "metadata": {
        "id": "xMJ64FBwYQma"
      },
      "source": [
        "The function `eig` returns 3 eigenvalues in vector `s` and corresponding 3 eigenvectors as column vectors in matrix `V`.\n",
        "Let's look into the values."
      ]
    },
    {
      "cell_type": "code",
      "metadata": {
        "colab": {
          "base_uri": "https://localhost:8080/"
        },
        "id": "4VjSN11JYcW8",
        "outputId": "805cbe11-0a39-4919-bec9-58f809c066a2"
      },
      "source": [
        "print(s)\n",
        "print(V)"
      ],
      "execution_count": 33,
      "outputs": [
        {
          "output_type": "stream",
          "name": "stdout",
          "text": [
            "[1. 1. 1.]\n",
            "[[ 1.00e+00  0.00e+00  0.00e+00]\n",
            " [ 0.00e+00  1.00e+00 -1.00e+00]\n",
            " [ 0.00e+00  0.00e+00  2.22e-16]]\n"
          ]
        }
      ]
    },
    {
      "cell_type": "markdown",
      "metadata": {
        "id": "Qkp0SuYkYkYr"
      },
      "source": [
        "- The first row vector, which is `s`, implies that $A$ has the **eigenvalue 1 with multiplicity 3**.\n",
        "- Then, the first and second **column vectors** in `V` are linearly independent, but the third column vector\n",
        "is almost dependent on the second one.\n",
        "- It follows that there are two linearly independent eigenvectors, and **the geometric multiplicity is 2**."
      ]
    },
    {
      "cell_type": "markdown",
      "metadata": {
        "id": "UMcmYzWoZPTE"
      },
      "source": [
        "### 2.2.5 Jordan Canonical Form and Spectral Decomposition"
      ]
    },
    {
      "cell_type": "markdown",
      "metadata": {
        "id": "kceXioXPc-o6"
      },
      "source": [
        "**Definition (Jordan canonical form):**\n",
        "$A\\in\\mathbb{R}^{n\\times n}$ is similar to matrix $J$ \n",
        "(i.e., there exist a non-singular $T$ such that $A=TJT^{-1}$):\n",
        "\n",
        "$$\n",
        " J := {\\rm diag}(J_1,J_2,\\ldots,J_r)\n",
        "$$\n",
        "\n",
        "where $J_1,J_2,\\ldots,J_r$ are defined by\n",
        "\\begin{align}\n",
        " J_i &:= {\\rm diag}\\bigl(J_{i1},J_{i2},\\ldots,J_{i\\alpha_i}\\bigr)\\in{\\mathbb C}^{m_i\\times m_i} \\quad (i=1,2,\\ldots,r)\\\\\n",
        " J_{ij} &:= \\left[\\begin{array}{cccc}\\lambda_i&1& &0\\\\ &\\ddots&\\ddots& \\\\ & &\\lambda_i&1\\\\0& & &\\lambda_i\\end{array}\\right]\n",
        " \\in {\\mathbb C}^{n_{ij}\\times n_{ij}} \\quad (j=1,2,\\ldots,\\alpha_i)\\\\\n",
        " m_i &:= \\sum_{j=1}^{\\alpha_i}n_{ij}.\n",
        "\\end{align}\n",
        "- $J$ is called the **Jordan canonical form** of $A$\n",
        "- $J_{ij}$ is called a **Jordan cell**.\n"
      ]
    },
    {
      "cell_type": "markdown",
      "metadata": {
        "id": "QssaMh1Mdx-d"
      },
      "source": [
        "Let's compute the Jordan canonical form of\n",
        "\n",
        "$$\n",
        "\tA=\\left[\\begin{array}{ccc}1&0&0\\\\0&1&1\\\\0&0&1\\end{array}\\right].\n",
        "$$\n",
        "\n",
        "by Python."
      ]
    },
    {
      "cell_type": "code",
      "metadata": {
        "id": "IHWcxGqdd6oK"
      },
      "source": [
        "from sympy import Matrix\n",
        "A = np.array([[-1,-7,2],[1,4,-1],[1,2,0]])\n",
        "M = Matrix(A)\n",
        "T, J = M.jordan_form()"
      ],
      "execution_count": 35,
      "outputs": []
    },
    {
      "cell_type": "markdown",
      "metadata": {
        "id": "sEN3qImOeI8n"
      },
      "source": [
        "- Here we used `SymPy` library, which is useful for **symbolic computation**.\n",
        "- The third line defines the matrix $A$ as a **symbolic mathematical object**.\n",
        "- Then, `jordan_form` computes the Jordan canonical form by **symbolic computation**.\n",
        "- `T` is a matrix that transform `A` to its Jordan canonical form $J$, that is, $A=TJT^{-1}$."
      ]
    },
    {
      "cell_type": "markdown",
      "metadata": {
        "id": "Ny3vRgcneqty"
      },
      "source": [
        "The results are as follows:"
      ]
    },
    {
      "cell_type": "code",
      "metadata": {
        "colab": {
          "base_uri": "https://localhost:8080/"
        },
        "id": "Pj7NOJsLenvD",
        "outputId": "e3af334a-23f9-43ab-a5ae-03abc3ccfd66"
      },
      "source": [
        "print(T)\n",
        "print(J)"
      ],
      "execution_count": 36,
      "outputs": [
        {
          "output_type": "stream",
          "name": "stdout",
          "text": [
            "Matrix([[-1, -2, 1], [0, 1, 0], [-1, 1, 0]])\n",
            "Matrix([[1, 1, 0], [0, 1, 1], [0, 0, 1]])\n"
          ]
        }
      ]
    },
    {
      "cell_type": "markdown",
      "metadata": {
        "id": "mqMI_EzZevuG"
      },
      "source": [
        "That is,\n",
        "\n",
        "$$\n",
        " T = \\begin{bmatrix}-1&-2&1\\\\0&1&0\\\\-1&1&0\\end{bmatrix},\\quad\n",
        " J = \\begin{bmatrix}1&1&0\\\\0&1&1\\\\0&0&1\\end{bmatrix}.\n",
        "$$\n",
        "\n",
        "Note that since this computation is **symbolic**, it takes a significant computational time\n",
        "for a matrix of a large size."
      ]
    },
    {
      "cell_type": "markdown",
      "metadata": {
        "id": "ig1t8po4fAw-"
      },
      "source": [
        "---"
      ]
    },
    {
      "cell_type": "markdown",
      "metadata": {
        "id": "As7Qo5KXfCkG"
      },
      "source": [
        "**Theorem (spectral mapping theorem):**\n",
        "Let us consider a matrix\n",
        "$A\\in{\\mathbb R}^{n\\times n}$ whose eigenvectors are\n",
        "$\\lambda_1,\\lambda_2,\\ldots,\\lambda_n$ (with multiplicity).\n",
        "Let $f(s)$ be a polynomial.\n",
        "Then the eigenvalues of polynomial matrix $f(A)\\in{\\mathbb R}^{n\\times n}$\n",
        "are $f(\\lambda_1),f(\\lambda_2),\\ldots,f(\\lambda_n)$ (with multiplicity).\n"
      ]
    },
    {
      "cell_type": "markdown",
      "metadata": {
        "id": "pYOsOQELfSO0"
      },
      "source": [
        "Let's check the spectral mapping theorem by Python.\n",
        "\n",
        "Consider the following matrix:\n",
        "\n",
        "$$\n",
        " A = \\begin{bmatrix}0&-1&-1\\\\-1&1&0\\\\-1&0&1\\end{bmatrix}.\n",
        "$$\n",
        "\n",
        "\n",
        "The eigenvalues are obtained by"
      ]
    },
    {
      "cell_type": "code",
      "metadata": {
        "colab": {
          "base_uri": "https://localhost:8080/"
        },
        "id": "UQxF5Mi6fjsB",
        "outputId": "2df2612d-fde7-4a8a-a6ce-6e2a698350ea"
      },
      "source": [
        "A = np.array([[0,-1,-1],[-1,1,0],[-1,0,1]])\n",
        "s, V = LA.eig(A)\n",
        "print(s)"
      ],
      "execution_count": 37,
      "outputs": [
        {
          "output_type": "stream",
          "name": "stdout",
          "text": [
            "[-1.  2.  1.]\n"
          ]
        }
      ]
    },
    {
      "cell_type": "markdown",
      "metadata": {
        "id": "K_KossXEfqRc"
      },
      "source": [
        "From this result, the eigenvalues of $A$ are $-1$, $2$, and $1$.\n",
        "Then, let us consider another matrix\n",
        "\n",
        "$$\n",
        " B = A^2 + A + I.\n",
        "$$\n",
        "\n",
        "The eigenvalues of $B$ are obtained from the **spectral mapping theorem** as\n",
        "\n",
        "$$\n",
        " (-1)^2 + (-1) + 1 = 1,\\quad\n",
        " 2^2 + 2 + 1 = 7,\\quad\n",
        " 1^2 + 1 + 1 = 3.\n",
        "$$\n",
        "\n",
        "To confirm this, we run the following code:"
      ]
    },
    {
      "cell_type": "code",
      "metadata": {
        "colab": {
          "base_uri": "https://localhost:8080/"
        },
        "id": "Xm-WXacTf3c8",
        "outputId": "2e500859-ce19-47e3-8b74-22e3fd1677b6"
      },
      "source": [
        "B = np.dot(A,A) + A + np.eye(3)\n",
        "s2, V2 = LA.eig(B)\n",
        "print(s2)"
      ],
      "execution_count": 38,
      "outputs": [
        {
          "output_type": "stream",
          "name": "stdout",
          "text": [
            "[1. 7. 3.]\n"
          ]
        }
      ]
    },
    {
      "cell_type": "markdown",
      "metadata": {
        "id": "yJ8HCLMigBbL"
      },
      "source": [
        "The values are 1, 7, and 3, which are exactly the same as the theoretical values."
      ]
    },
    {
      "cell_type": "markdown",
      "metadata": {
        "id": "pjxwpPWai545"
      },
      "source": [
        "### Gershgorin circle theorem\n",
        "**Theorem (Gershgorin circle theorem):**\n",
        "For a matrix\n",
        "$A=[a_{ij}]\\in{\\mathbb R}^{n\\times n}$, define\n",
        "the following regions in $\\mathbb{C}:$\n",
        "\n",
        "$$\n",
        "\\mathcal{R}_i := \\bigg\\{z\\in {\\mathbb C} : |z-a_{ii}| \\leq \\sum_{j\\in\\{1,2,\\ldots,n\\}\\setminus\\{i\\}} |a_{ij}| \\bigg\\},~~\n",
        "\\mathcal{C}_j := \\bigg\\{z\\in {\\mathbb C} : |z-a_{jj}| \\leq \\sum_{i\\in\\{1,2,\\ldots,n\\}\\setminus\\{j\\}} |a_{ij}| \\bigg\\}, \n",
        "$$\n",
        "\n",
        "for $i,j\\in\\{1,2,\\ldots,n\\}$.\n",
        "Let $\\lambda_1,\\lambda_2,\\ldots,\\lambda_n$ be the eigenvalues of $A$.\n",
        "Then we have\n",
        "\n",
        "\\begin{align*}\n",
        " \\{\\lambda_1,\\lambda_2,\\ldots,\\lambda_n\\} \\subseteq \\mathcal{R}:=\\bigcup_{i=1}^n \\mathcal{R}_i,\\quad\n",
        " \\{\\lambda_1,\\lambda_2,\\ldots,\\lambda_n\\} \\subseteq \\mathcal{C}:=\\bigcup_{j=1}^n \\mathcal{C}_j,\n",
        "\\end{align*}\n",
        "\n",
        "and hence\n",
        "$\\{\\lambda_1,\\lambda_2,\\ldots,\\lambda_n\\} \\subseteq \\mathcal{R} \\cap \\mathcal{C}$."
      ]
    },
    {
      "cell_type": "markdown",
      "metadata": {
        "id": "gNIVQClLjo6F"
      },
      "source": [
        "Let us consider the following matrix:\n",
        "\n",
        "$$\n",
        "\tA=\\left[\\begin{array}{ccc}1&-6&0\\\\3&3&2\\\\-1&0&2\\end{array}\\right].\n",
        "$$\n",
        "\n",
        "We find regions of eigenvalues by using **Gershgorin circle theorem**.\n",
        "From the theorem,\n",
        "the sets $\\mathcal{R}_i$ and $\\mathcal{C}_j$ are given as\n",
        "\n",
        "$$\n",
        "\\mathcal{R}_1 = \\left\\{z\\in {\\mathbb C} : |z-1| \\leq 6 \\right\\},\n",
        "\\mathcal{R}_2 = \\left\\{z\\in {\\mathbb C} : |z-3| \\leq 5 \\right\\},\n",
        "\\mathcal{R}_3 = \\left\\{z\\in {\\mathbb C} : |z-2| \\leq 1 \\right\\}\n",
        "$$\n",
        "\n",
        "$$\n",
        "\\mathcal{C}_1 = \\left\\{z\\in {\\mathbb C} : |z-1| \\leq 4 \\right\\},\n",
        "\\mathcal{C}_2 = \\left\\{z\\in {\\mathbb C} : |z-3| \\leq 6 \\right\\},\n",
        "\\mathcal{C}_3 = \\left\\{z\\in {\\mathbb C} : |z-2| \\leq 2 \\right\\}.\n",
        "$$\n",
        "\n",
        "Let's plot the regions by Python.\n"
      ]
    },
    {
      "cell_type": "code",
      "metadata": {
        "colab": {
          "base_uri": "https://localhost:8080/",
          "height": 181
        },
        "id": "Cel8QUK6kI58",
        "outputId": "0da38c53-4b56-4291-dbb9-b29b216bddb5"
      },
      "source": [
        "import numpy as np\n",
        "import numpy.linalg as LA\n",
        "import matplotlib\n",
        "from matplotlib.patches import Circle\n",
        "from matplotlib.collections import PatchCollection\n",
        "import matplotlib.pyplot as plt\n",
        "\n",
        "# Matrix A\n",
        "A = np.array([[1,-6,0],[3,3,2],[-1,0,2]])\n",
        "\n",
        "# Eigenvalues of A\n",
        "s, V = LA.eig(A)\n",
        "\n",
        "# Gershgorin circles R and C\n",
        "R = []\n",
        "C = []\n",
        "for i in range(len(A)):\n",
        "  center_i = A[i,i]\n",
        "  radius_Ri = np.sum(np.abs(A[i,:])) - np.abs(A[i,i])\n",
        "  radius_Ci = np.sum(np.abs(A[:,i])) - np.abs(A[i,i])\n",
        "  Ri = Circle((center_i, 0), radius_Ri)\n",
        "  R.append(Ri)\n",
        "  Ci = Circle((center_i, 0), radius_Ci)\n",
        "  C.append(Ci)\n",
        "        \n",
        "# Plot circles\n",
        "fig, ax = plt.subplots(1,2)\n",
        "\n",
        "# Circles in R\n",
        "p1 = PatchCollection(R, cmap=matplotlib.cm.jet, alpha=0.1)\n",
        "ax[0].add_collection(p1)\n",
        "ax[0].axis([-6,10,-7,7])\n",
        "ax[0].set_aspect('equal',adjustable='box')\n",
        "ax[0].grid()\n",
        "\n",
        "# Circles in C\n",
        "p2 = PatchCollection(C, cmap=matplotlib.cm.jet, alpha=0.1)\n",
        "ax[1].add_collection(p2)\n",
        "ax[1].axis([-6,10,-7,7])\n",
        "ax[1].set_aspect('equal',adjustable='box')\n",
        "ax[1].grid()\n",
        "\n",
        "# Plot eigenvalues\n",
        "ax[0].plot(np.real(s),np.imag(s),'o')\n",
        "ax[1].plot(np.real(s),np.imag(s),'o')\n",
        "\n",
        "# Plot figure\n",
        "plt.show()\n"
      ],
      "execution_count": 39,
      "outputs": [
        {
          "output_type": "display_data",
          "data": {
            "image/png": "[encoded data removed]",
            "text/plain": [
              "<Figure size 432x288 with 2 Axes>"
            ]
          },
          "metadata": {
            "needs_background": "light"
          }
        }
      ]
    },
    {
      "cell_type": "markdown",
      "metadata": {
        "id": "QkeX9FH8kypG"
      },
      "source": [
        "### 2.2.7 Eigenvalues of Positive and Non-negative Matrices"
      ]
    },
    {
      "cell_type": "markdown",
      "metadata": {
        "id": "gaR4DKAylOAq"
      },
      "source": [
        "**Definition:**\n",
        "- A matrix $\\Pi\\in\\{0,1\\}^{n\\times n}$ is called a **permutation matrix** if there is precisely one entry equal to 1 in each row and column, and the other entries are all 0.\n",
        "- A matrix $A\\in{\\mathbb R}^{n\\times n}$ ($n\\geq 2$) is said to be **reducible** if there exists a permutation matrix $\\Pi\\in{\\mathbb R}^{n\\times n}$ such that\n",
        "\n",
        "$$\n",
        "\t\\Pi^\\top A\\Pi = \\left[\\begin{array}{cc}A_{11}&A_{12}\\\\0&A_{22}\\end{array}\\right],\\quad \\text{$A_{11}$ and $A_{22}$ are square.}\n",
        "$$\n",
        "\n",
        "- For $n=1$, $A$ is said to be reducible if $A=0$.\n",
        "- We say $A\\in{\\mathbb R}^{n\\times n}$ is **irreducible**\n",
        "if $A$ is not reducible.\n"
      ]
    },
    {
      "cell_type": "markdown",
      "metadata": {
        "id": "k5_zeKZ1mm3i"
      },
      "source": [
        "**Theorem:**\n",
        "A matrix $A=[a_{ij}]\\in\\mathbb{R}^{n\\times n}$ with $n\\geq 2$ is irreducible if and only if\n",
        "$(I+{\\rm abs}(A))^{n-1}$ is positive, that is,\n",
        "\n",
        "$$\n",
        " \\bigl(I+{\\rm abs}(A)\\bigr)^{n-1}>0\n",
        "$$\n",
        "\n",
        "where ${\\rm abs}(A)$ is a matrix whose $(i,j)$-entry is\n",
        "$|a_{ij}|$,\n",
        "namely, \n",
        "\n",
        "$${\\rm abs}(A)=\\begin{bmatrix}|a_{11}|&\\ldots&|a_{1n}|\\\\ \\vdots & \\ddots & \\vdots\\\\ |a_{n1}| & \\ldots & |a_{nn}|\\end{bmatrix}\n",
        "\\in\\mathbb{R}^{n\\times n}$$"
      ]
    },
    {
      "cell_type": "markdown",
      "metadata": {
        "id": "7Mabd2UGnQ4Q"
      },
      "source": [
        "For non-negative matrices, the following theorem is known as\n",
        "**Perron-Frobenius theorem**.\n",
        "\n",
        "**Theorem (Perron-Frobenius theorem):**\n",
        "Let $A\\in{\\mathbb R}^{n\\times n}$ be a non-negative matrix.\n",
        "Then, the spectral radius $\\rho(A)$, the maximum absolute eigenvalue of $A$, is equal to\n",
        "an eigenvector of $A$,\n",
        "and there is a non-negative eigenvector (i.e., an eigenvector whose elements are all non-negative)\n",
        "associated with this eigenvalue.\n",
        "Moreover, if $A$ is also irreducible,\n",
        "then the following properties hold:\n",
        "1. $\\rho(A)>0$.\n",
        "2. $\\rho(A)$ is equal to a simple eigenvalue of $A$.\n",
        "3. There exists a positive eigenvector (i.e., the elements are all positive)  associated with an eigenvalue equal to $\\rho(A)$.\n",
        "\n"
      ]
    },
    {
      "cell_type": "markdown",
      "metadata": {
        "id": "BZSFYBn_n8NX"
      },
      "source": [
        "For positive matrices, we have the following theorem\n",
        "called **Perron theorem**.\n",
        "\n",
        "**Theorem (Peron theorem):**\n",
        "Suppose $A\\in{\\mathbb R}^{n\\times n}$ is positive. Then \n",
        "the following properties hold:\n",
        "1. $\\rho(A)>0$.\n",
        "2. $\\rho(A)$ is equal to a simple eigenvalue of $A$, and the other eigenvalues are strictly less than $\\rho(A)$.\n",
        "3. There exists a positive eigenvector associated with an eigenvalue equal to $\\rho(A)$.\n",
        "\n"
      ]
    },
    {
      "cell_type": "markdown",
      "metadata": {
        "id": "dRWNTHeTohFY"
      },
      "source": [
        "---"
      ]
    },
    {
      "cell_type": "markdown",
      "metadata": {
        "id": "AJohauOMoP_R"
      },
      "source": [
        "Now we check the two theorems by Python.\n",
        "\n",
        "Let us consider the following matrix:\n",
        "\n",
        "$$\n",
        "\tA_1=\\begin{bmatrix}1&0&0\\\\0&1&1\\\\0&0&1\\end{bmatrix}.\n",
        "$$\n",
        "\n",
        "First we compute $(I+\\mathrm{abs}(A_1))^{n-1}$ with $n=3$.\n"
      ]
    },
    {
      "cell_type": "code",
      "metadata": {
        "colab": {
          "base_uri": "https://localhost:8080/"
        },
        "id": "NggJImNTojcx",
        "outputId": "8d61c331-0488-4990-fb59-cce8f0a4cc87"
      },
      "source": [
        "A1 = np.array([[1,0,0],[0,1,1],[0,0,1]])\n",
        "B1 = np.eye(3) + abs(A1)\n",
        "print(np.dot(B1,B1))"
      ],
      "execution_count": 40,
      "outputs": [
        {
          "output_type": "stream",
          "name": "stdout",
          "text": [
            "[[4. 0. 0.]\n",
            " [0. 4. 4.]\n",
            " [0. 0. 4.]]\n"
          ]
        }
      ]
    },
    {
      "cell_type": "markdown",
      "metadata": {
        "id": "b0kAoumQooH0"
      },
      "source": [
        "Since this matrix is not positive (although it is non-negative), $A_1$ is a **reducible** non-negative matrix.\n",
        "\n",
        "\n",
        "We then compute the eigenvalues and the spectral radius $\\rho(A_1)$ as:"
      ]
    },
    {
      "cell_type": "code",
      "metadata": {
        "colab": {
          "base_uri": "https://localhost:8080/"
        },
        "id": "5Mh2JfEMofCn",
        "outputId": "1ac717d8-65d1-47f3-f6b4-89973473dbb1"
      },
      "source": [
        "s, V = LA.eig(A1)\n",
        "print(s)"
      ],
      "execution_count": 41,
      "outputs": [
        {
          "output_type": "stream",
          "name": "stdout",
          "text": [
            "[1. 1. 1.]\n"
          ]
        }
      ]
    },
    {
      "cell_type": "markdown",
      "metadata": {
        "id": "EGeUk24ppJ_e"
      },
      "source": [
        "From this, the eigenvalues of $A_1$ are $\\{1,1,1\\}$ (multiplicity 3), and hence **the spectral radius\n",
        "$\\rho(A_1)=1$ is equal to the eigenvalue of $A_1$**.\n",
        "\n",
        "Also, we can take a non-negative eigenvector $[1, 0, 0]^\\top$ associated with $\\rho(A_1)=1$.\n",
        "\n",
        "Actually, seeing `V` by `print(V)` we have\n"
      ]
    },
    {
      "cell_type": "code",
      "metadata": {
        "colab": {
          "base_uri": "https://localhost:8080/"
        },
        "id": "fw7M-y8-pXTx",
        "outputId": "a1d0bf89-af12-4dc3-e0a2-faa8ae458771"
      },
      "source": [
        "print(V)"
      ],
      "execution_count": 42,
      "outputs": [
        {
          "output_type": "stream",
          "name": "stdout",
          "text": [
            "[[ 1.00e+00  0.00e+00  0.00e+00]\n",
            " [ 0.00e+00  1.00e+00 -1.00e+00]\n",
            " [ 0.00e+00  0.00e+00  2.22e-16]]\n"
          ]
        }
      ]
    },
    {
      "cell_type": "markdown",
      "metadata": {
        "id": "-DxPV1inqlJ3"
      },
      "source": [
        "---"
      ]
    },
    {
      "cell_type": "markdown",
      "metadata": {
        "id": "2h-Hpa_JpeMK"
      },
      "source": [
        "Let us consider another matrix\n",
        "\n",
        "$$\n",
        "\tA_2=\\begin{bmatrix}1&0&1\\\\1&1&1\\\\0&1&1\\end{bmatrix}.\n",
        "$$\n",
        "\n",
        "Let's compute $(I+{\\rm abs}(A_2))^2$:"
      ]
    },
    {
      "cell_type": "code",
      "metadata": {
        "colab": {
          "base_uri": "https://localhost:8080/"
        },
        "id": "47eVclS8p6P8",
        "outputId": "acde51c7-8f2a-482b-8af6-842893b00f97"
      },
      "source": [
        "A2 = np.array([[1,0,1],[1,1,1],[0,1,1]])\n",
        "B2 = np.eye(3) + abs(A2)\n",
        "print(np.dot(B2,B2))"
      ],
      "execution_count": 43,
      "outputs": [
        {
          "output_type": "stream",
          "name": "stdout",
          "text": [
            "[[4. 1. 4.]\n",
            " [4. 5. 5.]\n",
            " [1. 4. 5.]]\n"
          ]
        }
      ]
    },
    {
      "cell_type": "markdown",
      "metadata": {
        "id": "6PevH7I7qJX1"
      },
      "source": [
        "Therefore $(I+{\\rm abs}(A_2))^2>0$, and hence\n",
        "this is an **irreducible** non-negative matrix.\n",
        "\n",
        "Let us obtain the eigenvalues and eigenvectors."
      ]
    },
    {
      "cell_type": "code",
      "metadata": {
        "colab": {
          "base_uri": "https://localhost:8080/"
        },
        "id": "M4ZJ_yTjqXSU",
        "outputId": "63cf6d43-90e8-4132-9e52-4cf7d5704710"
      },
      "source": [
        "s, V = LA.eig(A2)\n",
        "print(s)\n",
        "print(V)"
      ],
      "execution_count": 44,
      "outputs": [
        {
          "output_type": "stream",
          "name": "stdout",
          "text": [
            "[0.34+0.56j 0.34-0.56j 2.32+0.j  ]\n",
            "[[ 0.66+0.j    0.66-0.j    0.41+0.j  ]\n",
            " [ 0.08-0.49j  0.08+0.49j  0.73+0.j  ]\n",
            " [-0.43+0.37j -0.43-0.37j  0.55+0.j  ]]\n"
          ]
        }
      ]
    },
    {
      "cell_type": "markdown",
      "metadata": {
        "id": "o_q3e33pqaeo"
      },
      "source": [
        "This implies that the eigenvalues of $A_2$ are $\\{0.34\\pm0.56{\\mathrm j}, 2.32\\}$, and the spectral radius\n",
        "$\\rho(A_2)=2.32$ is equal to a simple eigenvalue of $A_2$.\n",
        "Also, we can take a positive eigenvector $[0.41, 0.73, 0.55]^\\top$\n",
        "associated with eigenvalue $\\rho(A_2)=2.32$."
      ]
    },
    {
      "cell_type": "markdown",
      "metadata": {
        "id": "imGFX2lfqm1i"
      },
      "source": [
        "---"
      ]
    },
    {
      "cell_type": "markdown",
      "metadata": {
        "id": "U9EdCusrqoQN"
      },
      "source": [
        "Finally, we consider\n",
        "\n",
        "$$\n",
        "\tA_3=\\begin{bmatrix}1&1&1\\\\2&1&1\\\\1&1&1\\end{bmatrix}.\n",
        "$$\n",
        "\n",
        "This is a positive matrix. \n",
        "The eigenvalues of $A_3$ are obtained by\n",
        "\n"
      ]
    },
    {
      "cell_type": "code",
      "metadata": {
        "colab": {
          "base_uri": "https://localhost:8080/"
        },
        "id": "s05Au58vqy2u",
        "outputId": "95f91fdf-1e4e-4ee8-cec2-4de1efe197aa"
      },
      "source": [
        "A3 = np.array([[1,1,1],[2,1,1],[1,1,1]])\n",
        "s, V = LA.eig(A3)\n",
        "print(s)\n",
        "print(V)"
      ],
      "execution_count": 46,
      "outputs": [
        {
          "output_type": "stream",
          "name": "stdout",
          "text": [
            "[ 3.30e+00 -3.03e-01 -1.88e-17]\n",
            "[[-0.52 -0.37  0.  ]\n",
            " [-0.68  0.85 -0.71]\n",
            " [-0.52 -0.37  0.71]]\n"
          ]
        }
      ]
    },
    {
      "cell_type": "markdown",
      "metadata": {
        "id": "IVmpucpQqzPU"
      },
      "source": [
        "The eigenvalues are $\\{3.30, -0.30, 0\\}$, and the spectral radius\n",
        "$\\rho(A_3)=3.30$ is equal to a simple eigenvalue $3.30$ of $A_3$.\n",
        "\n",
        "We can take a positive eigenvector $[0.52, 0.68, 0.52]^\\top$\n",
        "associated with eigenvalue $\\rho(A_3)=3.30$."
      ]
    },
    {
      "cell_type": "markdown",
      "metadata": {
        "id": "jGtaZx8Ct8P5"
      },
      "source": [
        "### 2.2.8 Eigenvalues of Real Symmetric Matrices\n",
        "\n",
        "**Theorem:**\n",
        "Every real symmetric $A\\in{\\mathbb R}^{n\\times n}$ is **semi-simple** and **diagonalizable**.\n",
        "Moreover, the eigenvalues of real symmetric $A$ are **all real** and any two eigenvectors\n",
        "associated with distinct eigenvalues are **mutually orthogonal**.\n",
        "\n"
      ]
    },
    {
      "cell_type": "markdown",
      "metadata": {
        "id": "dymaqaQfwLMO"
      },
      "source": [
        "\n",
        "**Definition:**\n",
        "Let $A\\in{\\mathbb R}^{n\\times n}$ be a symmetric matrix.\n",
        "- We say $A$ is **positive definite**\n",
        "if $x^\\top A x>0$ holds for any non-zero vector $x\\in{\\mathbb R}^n$.\n",
        "- We say $A$ is **positive semidefinite**\n",
        "if $x^\\top A x\\geq 0$ holds for any $x\\in\\mathbb{R}^n$.\n",
        "- We say $A$ is **negative definite**\n",
        " (or **negative semidefinite**)\n",
        "if $-A$ is positive definite (or positive semidefinite).\n"
      ]
    },
    {
      "cell_type": "markdown",
      "metadata": {
        "id": "-d-tlKcswMPU"
      },
      "source": [
        "**Theorem:**\n",
        "A real symmetric matrix $A\\in{\\mathbb R}^{n\\times n}$ is positive definite (or positive semidefinite)\n",
        "if and only if the **eigenvalues of $A$ are all positive** (or **non-negative**)."
      ]
    },
    {
      "cell_type": "markdown",
      "metadata": {
        "id": "y1N7_VC_waRJ"
      },
      "source": [
        "Let us consider the following symmetric matrix:\n",
        "\n",
        "$$\n",
        " A_1 = \\begin{bmatrix}2&1\\\\1&2\\end{bmatrix}.\n",
        "$$\n",
        "\n",
        "The Python code for the eigenvalues is as follows."
      ]
    },
    {
      "cell_type": "code",
      "metadata": {
        "colab": {
          "base_uri": "https://localhost:8080/"
        },
        "id": "9RGM9oCGwhwl",
        "outputId": "7c8c10bb-335e-4f02-f3bc-8f4ad1987401"
      },
      "source": [
        "A1 = np.array([[2,1],[1,2]])\n",
        "s, V = LA.eig(A1)\n",
        "print(s)"
      ],
      "execution_count": 47,
      "outputs": [
        {
          "output_type": "stream",
          "name": "stdout",
          "text": [
            "[3. 1.]\n"
          ]
        }
      ]
    },
    {
      "cell_type": "markdown",
      "metadata": {
        "id": "l7WAnk8_wk4v"
      },
      "source": [
        "The eigenvalues are $3$ and $1$, and hence $A_1$ is **positive definite** from the above theorem.\n",
        "\n",
        "Then, we compute the eigenvalues of\n",
        "$$\n",
        " A_2 = \\begin{bmatrix}1&1\\\\1&1\\end{bmatrix}.\n",
        "$$\n"
      ]
    },
    {
      "cell_type": "code",
      "metadata": {
        "colab": {
          "base_uri": "https://localhost:8080/"
        },
        "id": "7B_agV5yw4Hk",
        "outputId": "d6e72dbe-1d97-4d12-ab85-eb627c255c3f"
      },
      "source": [
        "A2 = np.array([[1,1],[1,1]])\n",
        "s, V = LA.eig(A2)\n",
        "print(s)"
      ],
      "execution_count": 49,
      "outputs": [
        {
          "output_type": "stream",
          "name": "stdout",
          "text": [
            "[2. 0.]\n"
          ]
        }
      ]
    },
    {
      "cell_type": "markdown",
      "metadata": {
        "id": "ieFR-Agkw-bd"
      },
      "source": [
        "The eigenvalues of $A_2$ as $0$ and $2$.\n",
        "It follows from the above theorem\n",
        "that $A_2$ is **positive semidefinite**."
      ]
    },
    {
      "cell_type": "markdown",
      "metadata": {
        "id": "_JTV7nh3xJAW"
      },
      "source": [
        "### 2.2.9 Matrix exponential\n",
        "\n",
        "**Definition:**\n",
        "For a square matrix $A\\in{\\mathbb R}^{n\\times n}$, we define\n",
        "the **matrix exponential** $e^A$ by\n",
        "$$\n",
        " e^{A}:=\\sum_{k=0}^\\infty \\frac{1}{k!}A^k. \n",
        "$$\n"
      ]
    },
    {
      "cell_type": "markdown",
      "metadata": {
        "id": "v4ifcw3VxWUw"
      },
      "source": [
        "The matrix exponential has the following properties:\n",
        "\n",
        "**Theorem:**\n",
        "1. $e^{0} = I$ holds, where $0\\in{\\mathbb R}^{n\\times n}$ is the zero matrix. \n",
        "2. If two matrices $A_1\\in{\\mathbb R}^{n\\times n}$ and $A_2\\in{\\mathbb R}^{n\\times n}$ \n",
        "are commutative (i.e., $A_1A_2=A_2A_1$), then\n",
        "$$\n",
        " e^{A_1}e^{A_2}=e^{A_1+A_2}\n",
        "$$\n",
        "holds. In particular, for any\n",
        "$A\\in{\\mathbb R}^{n\\times n}$ and any $t_1,t_2\\in{\\mathbb R}$, we have\n",
        "\n",
        "$$\n",
        "e^{At_1}e^{At_2} = e^{A(t_1+t_2)}.\n",
        "$$\n",
        "\n",
        "3. For any $A\\in{\\mathbb R}^{n\\times n}$ and any non-singular $T\\in{\\mathbb R}^{n\\times n}$,\n",
        "we have\n",
        "$$\n",
        " e^{TAT^{-1}}=Te^{A}T^{-1}.\n",
        "$$\n",
        "\n",
        "4. For any $A\\in{\\mathbb R}^{n\\times n}$, we have\n",
        "$e^{A}e^{-A} = I$.\n",
        "That is, $e^{-A}$ is the inverse matrix of $e^{A}$.\n",
        "\n",
        "5. Let $\\{\\lambda_1,\\lambda_2,\\ldots,\\lambda_n\\}$ be the eigenvalues of\n",
        "$A\\in{\\mathbb R}^{n\\times n}$. Then the eigenvalues of \n",
        "$e^A$ are given by $\\{e^{\\lambda_1},e^{\\lambda_2},\\ldots,e^{\\lambda_n}\\}$.\n",
        "\n"
      ]
    },
    {
      "cell_type": "markdown",
      "metadata": {
        "id": "4MufOXsgyD8g"
      },
      "source": [
        "In systems and control, the matrix exponential $e^{At}$ with \n",
        "**time parameter** $t$ is especially important.\n",
        "This matrix exponential is related to **linear differential equations**.\n",
        "\n",
        "**Theorem:**\n",
        "Let us consider the following differential equation:\n",
        "\n",
        "$$\n",
        " \\dot{x}(t) = Ax(t), \\quad x(0)=x_0\\in{\\mathbb R}^n,\n",
        "$$\n",
        "\n",
        "where $x(t)$ is a vector in ${\\mathbb R}^n$ at time $t\\geq 0$.\n",
        "Then, the solution of the above differential equation is given by\n",
        "\n",
        "$$\n",
        " x(t) = e^{At}x_0,\\quad t\\geq 0.\n",
        "$$\n"
      ]
    },
    {
      "cell_type": "markdown",
      "metadata": {
        "id": "FCgiALbmyeSL"
      },
      "source": [
        "---"
      ]
    },
    {
      "cell_type": "markdown",
      "metadata": {
        "id": "njYESkb8yg4Y"
      },
      "source": [
        "Let us consider the following matrix:\n",
        "\n",
        "$$\n",
        " A = \\begin{bmatrix}1&1&0\\\\0&1&1\\\\0&0&1\\end{bmatrix}.\n",
        "$$\n",
        "\n",
        "We compute the matrix exponential $e^A$ of this matrix by Python.\n",
        "\n",
        "For the matrix exponential, you need to import \n",
        "`linalg` submodule from\n",
        "`SciPy` (not `NumPy`) library. Then you can use `expm` function\n",
        "for the matrix exponential.\n"
      ]
    },
    {
      "cell_type": "code",
      "metadata": {
        "colab": {
          "base_uri": "https://localhost:8080/"
        },
        "id": "yIDODoZGy6W-",
        "outputId": "d82e8052-8ed5-458a-ba09-97745ed9a2ef"
      },
      "source": [
        "from scipy import linalg\n",
        "A = np.array([[1,1,0],[0,1,1],[0,0,1]])\n",
        "expA = linalg.expm(A)\n",
        "print(expA)"
      ],
      "execution_count": 50,
      "outputs": [
        {
          "output_type": "stream",
          "name": "stdout",
          "text": [
            "[[2.72 2.72 1.36]\n",
            " [0.   2.72 2.72]\n",
            " [0.   0.   2.72]]\n"
          ]
        }
      ]
    },
    {
      "cell_type": "markdown",
      "metadata": {
        "id": "deCrnUYFy_e7"
      },
      "source": [
        "Finally, we look into the **stability**\n",
        "of a differential equation.\n",
        "The following theorem is a fundamental theorem of stability.\n",
        "\n",
        "**Theorem (stability):**\n",
        "The solution $x(t)$ of the differential equation\n",
        "$$\n",
        "  \\dot{x}(t) = Ax(t), \\quad x(0)=x_0\\in{\\mathbb R}^n,\n",
        "$$\n",
        "converges to zero as $t\\rightarrow \\infty$ for any initial vector $x(0)=x_0$ if and only if the **eigenvalues** of $A$ lie in the **open\n",
        "left half plane** $\\{z\\in\\mathbb{C}: \\mathrm{Re}(z)<0\\}$.\n",
        "\n",
        "- If the condition in the above theorem holds,\n",
        "then the matrix $A$ is called a **Hurwitz matrix**.\n",
        "\n"
      ]
    },
    {
      "cell_type": "markdown",
      "metadata": {
        "id": "CLjvwQkWz7w5"
      },
      "source": [
        "Let's do simulation of a differential equation with\n",
        "\n",
        "$$\n",
        " A = \\begin{bmatrix}0&1&0\\\\0&0&1\\\\-1&-2&-1\\end{bmatrix}\n",
        "$$\n",
        "\n",
        "First, check the eigenvalues:"
      ]
    },
    {
      "cell_type": "code",
      "metadata": {
        "colab": {
          "base_uri": "https://localhost:8080/"
        },
        "id": "fa5lWaum0Qwq",
        "outputId": "ef372c75-82bc-4c63-dd89-30a95a165bc4"
      },
      "source": [
        "A = np.array([[0,1,0],[0,0,1],[-1,-2,-1]])\n",
        "s, V = LA.eig(A)\n",
        "print(s)"
      ],
      "execution_count": 53,
      "outputs": [
        {
          "output_type": "stream",
          "name": "stdout",
          "text": [
            "[-0.57+0.j   -0.22+1.31j -0.22-1.31j]\n"
          ]
        }
      ]
    },
    {
      "cell_type": "markdown",
      "metadata": {
        "id": "ItLFYZ840elO"
      },
      "source": [
        "Since all the eivenbalue of $A$ have negative real parts, and hence $A$ is Hurwitz.\n",
        "\n",
        "Then do simulation of the system."
      ]
    },
    {
      "cell_type": "code",
      "metadata": {
        "colab": {
          "base_uri": "https://localhost:8080/",
          "height": 279
        },
        "id": "TR-pKA0rz_u1",
        "outputId": "dafcd123-5e1e-4eef-c311-54b96019b22e"
      },
      "source": [
        "%matplotlib inline\n",
        "import matplotlib\n",
        "import numpy as np\n",
        "from scipy.integrate import odeint\n",
        "import matplotlib.pyplot as plt\n",
        "\n",
        "A = np.array([[0,1,0],[0,0,1],[-1,-2,-1]])\n",
        "\n",
        "def Ax(x,t,A):\n",
        "  dxdt = np.dot(A,x)\n",
        "  return dxdt\n",
        "\n",
        "x0 = np.array([1,1,1])\n",
        "t = np.arange(0, 20, 0.001)\n",
        "x = odeint(Ax, x0, t, args=(A,))\n",
        "\n",
        "fig, ax = plt.subplots(1,1)\n",
        "plt.plot(t,x)\n",
        "plt.xlabel('t')\n",
        "plt.ylabel('x')\n",
        "plt.grid()\n",
        "plt.show()\n"
      ],
      "execution_count": 54,
      "outputs": [
        {
          "output_type": "display_data",
          "data": {
            "image/png": "[encoded data removed]",
            "text/plain": [
              "<Figure size 432x288 with 1 Axes>"
            ]
          },
          "metadata": {
            "needs_background": "light"
          }
        }
      ]
    },
    {
      "cell_type": "markdown",
      "metadata": {
        "id": "_RkeO87301oO"
      },
      "source": [
        "We can see that the three elements in the vector $x(t)\\in\\mathbb{R}^3$ converge to zero as $t$ goes to $\\infty$."
      ]
    }
  ]
}