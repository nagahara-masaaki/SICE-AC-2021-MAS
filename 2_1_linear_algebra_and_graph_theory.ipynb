{
  "nbformat": 4,
  "nbformat_minor": 0,
  "metadata": {
    "colab": {
      "name": "2_1_linear_algebra_and_graph_theory.ipynb",
      "provenance": []
    },
    "kernelspec": {
      "name": "python3",
      "display_name": "Python 3"
    }
  },
  "cells": [
    {
      "cell_type": "markdown",
      "metadata": {
        "id": "OHBlNlpA3M3R"
      },
      "source": [
        "# 2. Linear Algebra and Graph Theory"
      ]
    },
    {
      "cell_type": "markdown",
      "metadata": {
        "id": "2vbOqHWP3SBs"
      },
      "source": [
        "**Abstract:** This lecture gives facts and theorems from linear algebra and graph theory that are important and used in control of multi-agent systems. Python codes are also provided, by which you obtain numerical results and well understand the mathematical facts. \n"
      ]
    },
    {
      "cell_type": "markdown",
      "metadata": {
        "id": "tIW6YVNO32Bp"
      },
      "source": [
        "**Key Points**\n",
        "- To analyze a graph (or a network), the **graph Laplacian** and the **Perron matrix** play an important role.\n",
        "- The graph Laplacian (resp. the Perron matrix) has at least **one eigenvalue of 0** (resp. **1**).\n",
        "- The **connectivity** of a graph can be analyzed by the **multiplicity of the 0 (resp. 1) eigenvalue** of the graph Laplacian (resp. the Perron matrix).\n",
        "- **NumPy** and **NetworkX** packages are useful for computations in linear algebra and graph theory, respectively."
      ]
    },
    {
      "cell_type": "markdown",
      "metadata": {
        "id": "sBkupZja4ZLR"
      },
      "source": [
        "## 2.1 Coding in Python\n",
        "In this lecture, we in particular introduce some facts and techniques in linear algebra and graph theory. For this purpose, we first need to **import useful packages** in Python. Namely, coding in Python starts with the following lines:\n"
      ]
    },
    {
      "cell_type": "code",
      "metadata": {
        "id": "xMDHJjVdH43X"
      },
      "source": [
        "# Common initialization\n",
        "import numpy as np\n",
        "import networkx as nx\n",
        "import numpy.linalg as LA"
      ],
      "execution_count": null,
      "outputs": []
    },
    {
      "cell_type": "markdown",
      "metadata": {
        "id": "yE6ErYoX40eV"
      },
      "source": [
        "For simplicity, we set floating point precision of matrices and vectors to 2 by:"
      ]
    },
    {
      "cell_type": "code",
      "metadata": {
        "id": "u-2ldNIU47Fm"
      },
      "source": [
        "np.set_printoptions(precision=2)"
      ],
      "execution_count": null,
      "outputs": []
    },
    {
      "cell_type": "markdown",
      "metadata": {
        "id": "Ui2bSuGp4_6f"
      },
      "source": [
        "## 2.2 Linear Algebra\n",
        "In this section, we will introduce important facts and theorems in **linear algebra** with **Python codes**. They will be used for analysis and design of multi-agent systems."
      ]
    },
    {
      "cell_type": "markdown",
      "metadata": {
        "id": "T5QTSaHS5VgQ"
      },
      "source": [
        "### 2.2.1 Finite-dimensional Vector Space\n",
        "Matrices and vectors are defined in Python using ``array`` function in NumPy (``np``).\n",
        "\n",
        "For example, \n",
        "$$\n",
        "x = \\begin{bmatrix}1\\\\2\\end{bmatrix},\\quad\n",
        "A = \\begin{bmatrix}1&2\\\\3&4\\end{bmatrix}\n",
        "$$\n",
        "are defined as:"
      ]
    },
    {
      "cell_type": "code",
      "metadata": {
        "id": "y3cN5Trd7mj2"
      },
      "source": [
        "x = np.array([1,2])\n",
        "A = np.array([[1,2],[3,4]]) "
      ],
      "execution_count": null,
      "outputs": []
    },
    {
      "cell_type": "markdown",
      "metadata": {
        "id": "zM04pz7p8P7b"
      },
      "source": [
        "**Matrix-vector multiplication** $Ax$ is obtained by\n",
        "``dot`` function of NumPy as\n"
      ]
    },
    {
      "cell_type": "code",
      "metadata": {
        "colab": {
          "base_uri": "https://localhost:8080/"
        },
        "id": "c15lRCYe8agy",
        "outputId": "715c259f-f8ea-4f11-d2bf-a2e5cb4ac43e"
      },
      "source": [
        "b = np.dot(A,x)\n",
        "print(b)"
      ],
      "execution_count": null,
      "outputs": [
        {
          "output_type": "stream",
          "name": "stdout",
          "text": [
            "[ 5 11]\n"
          ]
        }
      ]
    },
    {
      "cell_type": "markdown",
      "metadata": {
        "id": "ZZ0kpcvP8-k_"
      },
      "source": [
        "Note that ``x`` is a row vector but you do not need to transpose ``x`` before multiplying it by ``A``. The result is given by ``[ 5 11]``, a row vector.\n"
      ]
    },
    {
      "cell_type": "markdown",
      "metadata": {
        "id": "3NXuyN8__dVw"
      },
      "source": [
        "---"
      ]
    },
    {
      "cell_type": "markdown",
      "metadata": {
        "id": "dl-82In-9cz8"
      },
      "source": [
        "The **norm** of $b=Ax$ is computed by using ``norm`` function in ``numpy.linalg`` submodule, abbreviated as ``LA``:"
      ]
    },
    {
      "cell_type": "code",
      "metadata": {
        "colab": {
          "base_uri": "https://localhost:8080/"
        },
        "id": "JHnbB-et9jiN",
        "outputId": "e7d82925-50d9-4922-bdd5-e2c742ec910a"
      },
      "source": [
        "norm_b = LA.norm(b, ord=2)\n",
        "print(norm_b)"
      ],
      "execution_count": null,
      "outputs": [
        {
          "output_type": "stream",
          "name": "stdout",
          "text": [
            "12.083045973594572\n"
          ]
        }
      ]
    },
    {
      "cell_type": "markdown",
      "metadata": {
        "id": "WyzrL0jA-AqH"
      },
      "source": [
        "The second argument `ord=2` indicates the norm is computed with $\\ell^2$ norm. If you want to compute the $\\ell^1$ norm instead, then you just change it to `ord=1` as:\n"
      ]
    },
    {
      "cell_type": "code",
      "metadata": {
        "colab": {
          "base_uri": "https://localhost:8080/"
        },
        "id": "yRBPMQ3c_DZM",
        "outputId": "21d8f170-57f5-4068-eb50-2679a5f8db5d"
      },
      "source": [
        "print(LA.norm(b, ord=1))"
      ],
      "execution_count": null,
      "outputs": [
        {
          "output_type": "stream",
          "name": "stdout",
          "text": [
            "16.0\n"
          ]
        }
      ]
    },
    {
      "cell_type": "markdown",
      "metadata": {
        "id": "OtlONp97_Dqw"
      },
      "source": [
        "The rank of $A$ is also easily computed as"
      ]
    },
    {
      "cell_type": "code",
      "metadata": {
        "colab": {
          "base_uri": "https://localhost:8080/"
        },
        "id": "gD5vlA8W_kc5",
        "outputId": "2364382f-f8ea-4e00-9563-0f51e82e129a"
      },
      "source": [
        "print(LA.matrix_rank(A))"
      ],
      "execution_count": null,
      "outputs": [
        {
          "output_type": "stream",
          "name": "stdout",
          "text": [
            "2\n"
          ]
        }
      ]
    },
    {
      "cell_type": "markdown",
      "metadata": {
        "id": "eb97yTviCJBh"
      },
      "source": [
        "---"
      ]
    },
    {
      "cell_type": "markdown",
      "metadata": {
        "id": "EEBsW2Mf_qme"
      },
      "source": [
        "**Theorem (orthogonal decomposition):**  If a matrix $A\\in{\\mathbb R}^{m\\times n}$ satisfies\n",
        "\n",
        "$$\n",
        "    \\mathrm{rank}(A) = n\n",
        "$$\n",
        "\n",
        "   then $A^\\top A$ is non-singular. In this case,\n",
        "   for any vector $x\\in\\mathbb{R}^m$ there uniquely exist\n",
        "   $y \\in {\\mathcal S}\\triangleq {\\rm imag}(A)$ and $z\\in {\\mathcal S}^\\perp$, the orthogonal complement of ${\\mathcal S}$,\n",
        "   such that $x=y+z$, and these vectors are given by\n",
        "\n",
        "$$\n",
        "    y = A(A^\\top A)^{-1}A^\\top x,\\quad  z = (I-A(A^\\top A)^{-1}A^\\top)x.\n",
        "$$\n"
      ]
    },
    {
      "cell_type": "markdown",
      "metadata": {
        "id": "u43d94RjAzE9"
      },
      "source": [
        "Let's compute the matrices $P = A(A^\\top A)^{-1}A^\\top$ and $Q = I-P$ in the orthogonal decomposition."
      ]
    },
    {
      "cell_type": "markdown",
      "metadata": {
        "id": "Yv4IpwSoBetV"
      },
      "source": [
        "- Define the following $3\\times 2$ matrix:\n",
        "$$\n",
        " A = \\begin{bmatrix}1&2\\\\3&4\\\\5&6\\end{bmatrix}.\n",
        "$$"
      ]
    },
    {
      "cell_type": "code",
      "metadata": {
        "id": "v6hkhNkIBW8J"
      },
      "source": [
        "A = np.array([[1,2],[3,4],[5,6]])"
      ],
      "execution_count": null,
      "outputs": []
    },
    {
      "cell_type": "markdown",
      "metadata": {
        "id": "MJhYe8TlB7p_"
      },
      "source": [
        "- Compute the **rank** of $A$ by `matrix_rank` funciton in `numpy.linalg` (`LA`)"
      ]
    },
    {
      "cell_type": "code",
      "metadata": {
        "colab": {
          "base_uri": "https://localhost:8080/"
        },
        "id": "6ZvjGTDNB_9m",
        "outputId": "40bff025-32d1-4e02-a1c9-dd6bf278d7dc"
      },
      "source": [
        "print(LA.matrix_rank(A))"
      ],
      "execution_count": null,
      "outputs": [
        {
          "output_type": "stream",
          "name": "stdout",
          "text": [
            "2\n"
          ]
        }
      ]
    },
    {
      "cell_type": "markdown",
      "metadata": {
        "id": "ACgsG6qcCobH"
      },
      "source": [
        "- The rank of $A$ is 2, and hence the image of matrix $A$ is \n",
        "a 2-dimensional linear subspace of $\\mathbb{R}^3$. Therefore, $A^\\top A$ is non-singular.\n",
        "So we can compute $P = A(A^\\top A)^{-1}A^\\top$ as:"
      ]
    },
    {
      "cell_type": "code",
      "metadata": {
        "id": "5Dkigz6nC92h"
      },
      "source": [
        "B = np.dot(A.T,A)\n",
        "C = LA.inv(B)\n",
        "P = LA.multi_dot([A,C,A.T])"
      ],
      "execution_count": null,
      "outputs": []
    },
    {
      "cell_type": "markdown",
      "metadata": {
        "id": "4056bLnvDBeo"
      },
      "source": [
        "- The first line computes $B = A^\\top A$, where\n",
        "`A.T` is the **transpose** of `A`.\n",
        "- The second line computes the **inverse** of $B=A^\\top A$\n",
        "using `inv` function in `linalg` submodule of NumPy.\n",
        "- The third line gives $P=A(A^\\top A)^{-1}A^\\top$,\n",
        "where `multi_dot` can compute the **product of two or more matrices**.\n",
        "- Finally, we compute $Q=I-P$ as:"
      ]
    },
    {
      "cell_type": "code",
      "metadata": {
        "id": "n8t91SKVD0-a"
      },
      "source": [
        "Q = np.eye(3) - P"
      ],
      "execution_count": null,
      "outputs": []
    },
    {
      "cell_type": "markdown",
      "metadata": {
        "id": "j_oRqtspD3A5"
      },
      "source": [
        "where `np.eye(3)` is the **identity matrix** of size $3\\times 3$. The matrices $P$ and $Q$ are given as"
      ]
    },
    {
      "cell_type": "code",
      "metadata": {
        "colab": {
          "base_uri": "https://localhost:8080/"
        },
        "id": "OmUWzjXwEFZ_",
        "outputId": "3792bd63-dddf-4217-ddf4-d8472a46ffb2"
      },
      "source": [
        "print(P)"
      ],
      "execution_count": null,
      "outputs": [
        {
          "output_type": "stream",
          "name": "stdout",
          "text": [
            "[[ 0.83  0.33 -0.17]\n",
            " [ 0.33  0.33  0.33]\n",
            " [-0.17  0.33  0.83]]\n"
          ]
        }
      ]
    },
    {
      "cell_type": "code",
      "metadata": {
        "colab": {
          "base_uri": "https://localhost:8080/"
        },
        "id": "DXi4Cb8PEJ_M",
        "outputId": "cf1116f6-661e-49f1-9dff-e559b0b3b92c"
      },
      "source": [
        "print(Q)"
      ],
      "execution_count": null,
      "outputs": [
        {
          "output_type": "stream",
          "name": "stdout",
          "text": [
            "[[ 0.17 -0.33  0.17]\n",
            " [-0.33  0.67 -0.33]\n",
            " [ 0.17 -0.33  0.17]]\n"
          ]
        }
      ]
    },
    {
      "cell_type": "markdown",
      "metadata": {
        "id": "mQw40pSsJICD"
      },
      "source": [
        "### 2.2.1 Determinant\n",
        "Let us compute the **determinant** $\\mathrm{det}(A)$ with\n",
        "$$\n",
        " A = \\begin{bmatrix}2&3&0&1\\\\0&1&5&0\\\\1&0&0&4\\\\0&7&2&0\\end{bmatrix}\n",
        "$$\n",
        "Python can easily solve this by `det` funciton in `linalg`.\n"
      ]
    },
    {
      "cell_type": "code",
      "metadata": {
        "colab": {
          "base_uri": "https://localhost:8080/"
        },
        "id": "5PnRv3MFJX1H",
        "outputId": "8738969e-e78d-4890-cb11-249c552806eb"
      },
      "source": [
        "A = np.array([[2,3,0,1],[0,1,5,0],[1,0,0,4],[0,7,2,0]])\n",
        "d = LA.det(A)\n",
        "print(d)"
      ],
      "execution_count": null,
      "outputs": [
        {
          "output_type": "stream",
          "name": "stdout",
          "text": [
            "230.99999999999994\n"
          ]
        }
      ]
    },
    {
      "cell_type": "markdown",
      "metadata": {
        "id": "BA2CNzKQKA-m"
      },
      "source": [
        "### 2.2.3 Positive and Non-negative Matrices\n",
        "**Definition (Positive and Non-negative Matrices):**\n",
        "Let us consider a matrix $A\\in {\\mathbb R}^{m\\times n}$.\n",
        "If the elements in $A$ are all **positive** (or **non-negative**),\n",
        "then $A$ is said to be **positive** (or **non-negative**).\n",
        "We write \n",
        "\n",
        "$$A>0 ~~~\\text{if $A$ is positive}$$\n",
        "\n",
        "and\n",
        "\n",
        "$$A\\geq 0 ~~~\\text{if $A$ is non-negative}$$."
      ]
    },
    {
      "cell_type": "markdown",
      "metadata": {
        "id": "O-H_yHFfKeAZ"
      },
      "source": [
        "**Definition (Stochastic matrices):**\n",
        "Let us consider a non-negative matrix $A=[a_{ij}]\\in{\\mathbb R}^{n\\times n}$.\n",
        "If the row sums of $A$ are all $1$, that is, if\n",
        "\n",
        "$$\n",
        "\ta_{i1}+a_{i2}+\\cdots+a_{in}=1\n",
        "$$\n",
        "\n",
        "holds for all $i\\in\\{1,2,\\ldots,n\\}$, then\n",
        "$A$ is said to be a **stochastic matrix**."
      ]
    },
    {
      "cell_type": "markdown",
      "metadata": {
        "id": "5Dnxs5DlK1po"
      },
      "source": [
        "- The condition $a_{i1}+a_{i2}+\\cdots+a_{in}=1$ for any $i$\n",
        "can be also written by\n",
        "\n",
        "$$\n",
        " A{\\mathbf 1}_n={\\mathbf 1}_n\n",
        "$$\n",
        "\n",
        "where ${\\mathbf 1}_n\\in\\mathbb{R}^n$ is a **vector of ones**, that is,\n",
        "\n",
        "$${\\mathbf 1}_n = [1,1,\\ldots,1]^\\top$$.\n",
        "\n",
        "- A stochastic matrix $A$ is said to be a **doubly stochastic matrix** if $A^\\top$ is also stochastic.\n"
      ]
    },
    {
      "cell_type": "markdown",
      "metadata": {
        "id": "wZTtF0dxLWwr"
      },
      "source": [
        "Let us consider the following matrix:\n",
        "\n",
        "$$\n",
        "\tA_1=\\frac{1}{4}\\begin{bmatrix}\n",
        "\t\t2 & 0 & 2\\\\\n",
        "\t\t1 & 2 & 1\\\\\n",
        "\t\t0 & 2 & 2\\\\\n",
        "\t\\end{bmatrix}.\n",
        "$$\n",
        "\n",
        "This is a stochastic matrix. Let's check this by Python by computing $A{\\mathbf 1}_n$.\n"
      ]
    },
    {
      "cell_type": "code",
      "metadata": {
        "colab": {
          "base_uri": "https://localhost:8080/"
        },
        "id": "qKsiaL3ALpAk",
        "outputId": "650c6d93-b1a2-453b-8429-0cc50492d910"
      },
      "source": [
        "A1 = np.array([[2,0,2],[1,2,1],[0,2,2]])/4\n",
        "v = np.ones(3)\n",
        "print(np.dot(A1,v))"
      ],
      "execution_count": null,
      "outputs": [
        {
          "output_type": "stream",
          "name": "stdout",
          "text": [
            "[1. 1. 1.]\n"
          ]
        }
      ]
    },
    {
      "cell_type": "markdown",
      "metadata": {
        "id": "fhHbbQ7UL4tN"
      },
      "source": [
        "where `np.ones(3)` returns the vector of ones of size 3.\n",
        "From the result, we can say $A$ is stochastic."
      ]
    },
    {
      "cell_type": "markdown",
      "metadata": {
        "id": "bqhjdbryMW0n"
      },
      "source": [
        "Let us another matrix:\n",
        "\n",
        "$$\n",
        "\tA_2=\\frac{1}{4}\\begin{bmatrix}\n",
        "\t\t2 & 0 & 2\\\\\n",
        "\t\t1 & 2 & 1\\\\\n",
        "\t\t1 & 2 & 1\\\\\n",
        "\t\\end{bmatrix}.\n",
        "$$\n",
        "\n",
        "We will show this is doubly stochastic."
      ]
    },
    {
      "cell_type": "markdown",
      "metadata": {
        "id": "fdwxHS1ZMhNw"
      },
      "source": [
        "For this, we compute $A_2\\mathbf{1}_3$ and $A_2^\\top \\mathbf{1}_3$."
      ]
    },
    {
      "cell_type": "code",
      "metadata": {
        "colab": {
          "base_uri": "https://localhost:8080/"
        },
        "id": "hkSLEARkMrPV",
        "outputId": "9656e44d-fb3a-4e47-c6b7-cb256c463bc6"
      },
      "source": [
        "A2 = np.array([[2,0,2],[1,2,1],[1,2,1]])/4\n",
        "v = np.ones(3)\n",
        "print(np.dot(A2,v))\n",
        "print(np.dot(A2.T,v))"
      ],
      "execution_count": null,
      "outputs": [
        {
          "output_type": "stream",
          "name": "stdout",
          "text": [
            "[1. 1. 1.]\n",
            "[1. 1. 1.]\n"
          ]
        }
      ]
    },
    {
      "cell_type": "markdown",
      "metadata": {
        "id": "JbHK17adMtsq"
      },
      "source": [
        "Hence $A_2$ is doubly stochastic."
      ]
    },
    {
      "cell_type": "markdown",
      "metadata": {
        "id": "9bc1751HM0OZ"
      },
      "source": [
        "### 2.2.4 Eigenvalues\n",
        "**Definition (Eigenvalues and eigenvectors):**\n",
        "Let us consider the following equation:\n",
        "\n",
        "$$\n",
        "\tAx = \\lambda x\n",
        "$$\n",
        "\n",
        "where $A\\in{\\mathbb R}^{n\\times n}$ is given and \n",
        "$x\\in{\\mathbb C}^n$ and $\\lambda\\in{\\mathbb C}$\n",
        "are unknown.\n",
        "If there exist a scalar $\\lambda$ and a non-zero vector $x$\n",
        "that satisfy the above equation, \n",
        "then $\\lambda$ is called an **eigenvalue** of $A$\n",
        "and $x$ is called an **eigenvector** of $A$ associated with $\\lambda$."
      ]
    },
    {
      "cell_type": "markdown",
      "metadata": {
        "id": "l8WR7G8NNWX6"
      },
      "source": [
        "**Definition (Left eigenvectors):**\n",
        "If there exists a non-zero row vector\n",
        "$\\xi\\in{\\mathbb C}^{1\\times n}$ and a scalar\n",
        "$\\lambda\\in{\\mathbb C}$ such that\n",
        "\n",
        "$$\n",
        " \\xi A = \\lambda \\xi\n",
        "$$\n",
        "\n",
        "holds, then $\\xi$ is called a **left eigenvector** associated with $\\lambda$.\n"
      ]
    },
    {
      "cell_type": "markdown",
      "metadata": {
        "id": "9GHIrZM8Vomo"
      },
      "source": [
        "**Theorem (eigenvalues):**\n",
        "1. A scalar $\\lambda\\in\\mathbb{C}$ is an eigenvalue of matrix\n",
        "$A\\in{\\mathbb R}^{n\\times n}$ if and only if \n",
        "the matrix  $\\lambda I-A$ is singular.\n",
        "2. A scalar $\\lambda\\in\\mathbb{C}$ is an eigenvalue of matrix\n",
        "$A\\in{\\mathbb R}^{n\\times n}$ if and only if \n",
        "$\\lambda$ is a root of the **characteristic polynomial**\n",
        "of $A$ defined by\n",
        "\n",
        "$$\n",
        "  p_A(s) := \\det(sI-A).\n",
        "$$\n",
        "\n",
        "\n"
      ]
    },
    {
      "cell_type": "markdown",
      "metadata": {
        "id": "QdIr2TAhWEO2"
      },
      "source": [
        "**Definition (multiplicity of eigenvalue):**\n",
        "- Every matrix $A\\in{\\mathbb R}^{n\\times n}$ has exactly $n$ eigenvalues counted with multiplicity.\n",
        "- The multiplicity of $\\lambda$ as a root of the characteristic polynomial $p_A$ is called the **algebraic multiplicity**.\n",
        "- The number of linearly independent eigenvectors associated with an eigenvalue $\\lambda$, or the dimension of \n",
        "\n",
        "$$\\ker(\\lambda I-A) = \\{x\\in\\mathbb{R}^n: (I-A)x=0\\}$$\n",
        "\n",
        "is called the **geometric multiplicity**.\n",
        "- Every eigenvalue has the geometric multiplicity greater than or equal to 1.\n",
        "- The geometric multiplicity is always less than or equal to the algebraic multiplicity.\n",
        "- An eigenvalue is said to be **simple** if its algebraic multiplicity is equal to 1, and hence its geometric multiplicity is also 1.\n",
        "- An eigenvalue is said to be **semi-simple** if its algebraic multiplicity is equal to its geometric multiplicity.\n",
        "- If all the eigenvalues are semi-simple, then the matrix is said to be a **semi-simple matrix**.\n"
      ]
    },
    {
      "cell_type": "markdown",
      "metadata": {
        "id": "hODofbrFW1Pz"
      },
      "source": [
        "---"
      ]
    },
    {
      "cell_type": "markdown",
      "metadata": {
        "id": "sTChfYrvW3Bn"
      },
      "source": [
        "**Example:** Let us consider the following matrix:\n",
        "\n",
        "$$\n",
        "\tA=\\left[\\begin{array}{ccc}1&0&0\\\\0&1&1\\\\0&0&1\\end{array}\\right].\n",
        "$$\n",
        "\n",
        "- The characteristic polynomial is given by\n",
        "$p_A(s) = \\det(sI-A) = (s-1)^3$.\n",
        "- The eigenvalues of $A$ are $\\{1,1,1\\}$ (multiplicity 3),\n",
        "and the algebraic multiplicity is 3.\n",
        "- On the other hand,\n",
        "there are two linearly independent eigenvectors associated with $\\lambda=1$,\n",
        "for example,\n",
        "$x_1=[1 \\ 0 \\ 0]^\\top$ and $x_2=[0 \\ 1 \\ 0]^\\top$,\n",
        "and hence the geometric multiplicity is 2 in this case.\n",
        "\n"
      ]
    },
    {
      "cell_type": "markdown",
      "metadata": {
        "id": "SWmtK9FbYGEA"
      },
      "source": [
        "Then, we try to check the above facts by using Python.\n",
        "The eigenvalues and corresponding eigenvectors can be computed as follows:"
      ]
    },
    {
      "cell_type": "code",
      "metadata": {
        "id": "p1YvR58ZYKUk"
      },
      "source": [
        "A = np.array([[1,0,0],[0,1,1],[0,0,1]])\n",
        "s, V = LA.eig(A)"
      ],
      "execution_count": null,
      "outputs": []
    },
    {
      "cell_type": "markdown",
      "metadata": {
        "id": "xMJ64FBwYQma"
      },
      "source": [
        "The function `eig` returns 3 eigenvalues in vector `s` and corresponding 3 eigenvectors as column vectors in matrix `V`.\n",
        "Let's look into the values."
      ]
    },
    {
      "cell_type": "code",
      "metadata": {
        "colab": {
          "base_uri": "https://localhost:8080/"
        },
        "id": "4VjSN11JYcW8",
        "outputId": "805cbe11-0a39-4919-bec9-58f809c066a2"
      },
      "source": [
        "print(s)\n",
        "print(V)"
      ],
      "execution_count": null,
      "outputs": [
        {
          "output_type": "stream",
          "name": "stdout",
          "text": [
            "[1. 1. 1.]\n",
            "[[ 1.00e+00  0.00e+00  0.00e+00]\n",
            " [ 0.00e+00  1.00e+00 -1.00e+00]\n",
            " [ 0.00e+00  0.00e+00  2.22e-16]]\n"
          ]
        }
      ]
    },
    {
      "cell_type": "markdown",
      "metadata": {
        "id": "Qkp0SuYkYkYr"
      },
      "source": [
        "- The first row vector, which is `s`, implies that $A$ has the **eigenvalue 1 with multiplicity 3**.\n",
        "- Then, the first and second **column vectors** in `V` are linearly independent, but the third column vector\n",
        "is almost dependent on the second one.\n",
        "- It follows that there are two linearly independent eigenvectors, and **the geometric multiplicity is 2**."
      ]
    },
    {
      "cell_type": "markdown",
      "metadata": {
        "id": "UMcmYzWoZPTE"
      },
      "source": [
        "### 2.2.5 Jordan Canonical Form and Spectral Decomposition"
      ]
    },
    {
      "cell_type": "markdown",
      "metadata": {
        "id": "kceXioXPc-o6"
      },
      "source": [
        "**Definition (Jordan canonical form):**\n",
        "$A\\in\\mathbb{R}^{n\\times n}$ is similar to matrix $J$ \n",
        "(i.e., there exist a non-singular $T$ such that $A=TJT^{-1}$):\n",
        "\n",
        "$$\n",
        " J := {\\rm diag}(J_1,J_2,\\ldots,J_r)\n",
        "$$\n",
        "\n",
        "where $J_1,J_2,\\ldots,J_r$ are defined by\n",
        "\\begin{align}\n",
        " J_i &:= {\\rm diag}\\bigl(J_{i1},J_{i2},\\ldots,J_{i\\alpha_i}\\bigr)\\in{\\mathbb C}^{m_i\\times m_i} \\quad (i=1,2,\\ldots,r)\\\\\n",
        " J_{ij} &:= \\left[\\begin{array}{cccc}\\lambda_i&1& &0\\\\ &\\ddots&\\ddots& \\\\ & &\\lambda_i&1\\\\0& & &\\lambda_i\\end{array}\\right]\n",
        " \\in {\\mathbb C}^{n_{ij}\\times n_{ij}} \\quad (j=1,2,\\ldots,\\alpha_i)\\\\\n",
        " m_i &:= \\sum_{j=1}^{\\alpha_i}n_{ij}.\n",
        "\\end{align}\n",
        "- $J$ is called the **Jordan canonical form** of $A$\n",
        "- $J_{ij}$ is called a **Jordan cell**.\n"
      ]
    },
    {
      "cell_type": "markdown",
      "metadata": {
        "id": "QssaMh1Mdx-d"
      },
      "source": [
        "Let's compute the Jordan canonical form of\n",
        "\n",
        "$$\n",
        "\tA=\\left[\\begin{array}{ccc}1&0&0\\\\0&1&1\\\\0&0&1\\end{array}\\right].\n",
        "$$\n",
        "\n",
        "by Python."
      ]
    },
    {
      "cell_type": "code",
      "metadata": {
        "id": "IHWcxGqdd6oK"
      },
      "source": [
        "from sympy import Matrix\n",
        "A = np.array([[-1,-7,2],[1,4,-1],[1,2,0]])\n",
        "M = Matrix(A)\n",
        "T, J = M.jordan_form()"
      ],
      "execution_count": null,
      "outputs": []
    },
    {
      "cell_type": "markdown",
      "metadata": {
        "id": "sEN3qImOeI8n"
      },
      "source": [
        "- Here we used `SymPy` library, which is useful for **symbolic computation**.\n",
        "- The third line defines the matrix $A$ as a **symbolic mathematical object**.\n",
        "- Then, `jordan_form` computes the Jordan canonical form by **symbolic computation**.\n",
        "- `T` is a matrix that transform `A` to its Jordan canonical form $J$, that is, $A=TJT^{-1}$."
      ]
    },
    {
      "cell_type": "markdown",
      "metadata": {
        "id": "Ny3vRgcneqty"
      },
      "source": [
        "The results are as follows:"
      ]
    },
    {
      "cell_type": "code",
      "metadata": {
        "colab": {
          "base_uri": "https://localhost:8080/"
        },
        "id": "Pj7NOJsLenvD",
        "outputId": "e3af334a-23f9-43ab-a5ae-03abc3ccfd66"
      },
      "source": [
        "print(T)\n",
        "print(J)"
      ],
      "execution_count": null,
      "outputs": [
        {
          "output_type": "stream",
          "name": "stdout",
          "text": [
            "Matrix([[-1, -2, 1], [0, 1, 0], [-1, 1, 0]])\n",
            "Matrix([[1, 1, 0], [0, 1, 1], [0, 0, 1]])\n"
          ]
        }
      ]
    },
    {
      "cell_type": "markdown",
      "metadata": {
        "id": "mqMI_EzZevuG"
      },
      "source": [
        "That is,\n",
        "\n",
        "$$\n",
        " T = \\begin{bmatrix}-1&-2&1\\\\0&1&0\\\\-1&1&0\\end{bmatrix},\\quad\n",
        " J = \\begin{bmatrix}1&1&0\\\\0&1&1\\\\0&0&1\\end{bmatrix}.\n",
        "$$\n",
        "\n",
        "Note that since this computation is **symbolic**, it takes a significant computational time\n",
        "for a matrix of a large size."
      ]
    },
    {
      "cell_type": "markdown",
      "metadata": {
        "id": "ig1t8po4fAw-"
      },
      "source": [
        "---"
      ]
    },
    {
      "cell_type": "markdown",
      "metadata": {
        "id": "As7Qo5KXfCkG"
      },
      "source": [
        "**Theorem (spectral mapping theorem):**\n",
        "Let us consider a matrix\n",
        "$A\\in{\\mathbb R}^{n\\times n}$ whose eigenvectors are\n",
        "$\\lambda_1,\\lambda_2,\\ldots,\\lambda_n$ (with multiplicity).\n",
        "Let $f(s)$ be a polynomial.\n",
        "Then the eigenvalues of polynomial matrix $f(A)\\in{\\mathbb R}^{n\\times n}$\n",
        "are $f(\\lambda_1),f(\\lambda_2),\\ldots,f(\\lambda_n)$ (with multiplicity).\n"
      ]
    },
    {
      "cell_type": "markdown",
      "metadata": {
        "id": "pYOsOQELfSO0"
      },
      "source": [
        "Let's check the spectral mapping theorem by Python.\n",
        "\n",
        "Consider the following matrix:\n",
        "\n",
        "$$\n",
        " A = \\begin{bmatrix}0&-1&-1\\\\-1&1&0\\\\-1&0&1\\end{bmatrix}.\n",
        "$$\n",
        "\n",
        "\n",
        "The eigenvalues are obtained by"
      ]
    },
    {
      "cell_type": "code",
      "metadata": {
        "colab": {
          "base_uri": "https://localhost:8080/"
        },
        "id": "UQxF5Mi6fjsB",
        "outputId": "2df2612d-fde7-4a8a-a6ce-6e2a698350ea"
      },
      "source": [
        "A = np.array([[0,-1,-1],[-1,1,0],[-1,0,1]])\n",
        "s, V = LA.eig(A)\n",
        "print(s)"
      ],
      "execution_count": null,
      "outputs": [
        {
          "output_type": "stream",
          "name": "stdout",
          "text": [
            "[-1.  2.  1.]\n"
          ]
        }
      ]
    },
    {
      "cell_type": "markdown",
      "metadata": {
        "id": "K_KossXEfqRc"
      },
      "source": [
        "From this result, the eigenvalues of $A$ are $-1$, $2$, and $1$.\n",
        "Then, let us consider another matrix\n",
        "\n",
        "$$\n",
        " B = A^2 + A + I.\n",
        "$$\n",
        "\n",
        "The eigenvalues of $B$ are obtained from the **spectral mapping theorem** as\n",
        "\n",
        "$$\n",
        " (-1)^2 + (-1) + 1 = 1,\\quad\n",
        " 2^2 + 2 + 1 = 7,\\quad\n",
        " 1^2 + 1 + 1 = 3.\n",
        "$$\n",
        "\n",
        "To confirm this, we run the following code:"
      ]
    },
    {
      "cell_type": "code",
      "metadata": {
        "colab": {
          "base_uri": "https://localhost:8080/"
        },
        "id": "Xm-WXacTf3c8",
        "outputId": "2e500859-ce19-47e3-8b74-22e3fd1677b6"
      },
      "source": [
        "B = np.dot(A,A) + A + np.eye(3)\n",
        "s2, V2 = LA.eig(B)\n",
        "print(s2)"
      ],
      "execution_count": null,
      "outputs": [
        {
          "output_type": "stream",
          "name": "stdout",
          "text": [
            "[1. 7. 3.]\n"
          ]
        }
      ]
    },
    {
      "cell_type": "markdown",
      "metadata": {
        "id": "yJ8HCLMigBbL"
      },
      "source": [
        "The values are 1, 7, and 3, which are exactly the same as the theoretical values."
      ]
    },
    {
      "cell_type": "markdown",
      "metadata": {
        "id": "pjxwpPWai545"
      },
      "source": [
        "### Gershgorin circle theorem\n",
        "**Theorem (Gershgorin circle theorem):**\n",
        "For a matrix\n",
        "$A=[a_{ij}]\\in{\\mathbb R}^{n\\times n}$, define\n",
        "the following regions in $\\mathbb{C}:$\n",
        "\n",
        "$$\n",
        "\\mathcal{R}_i := \\bigg\\{z\\in {\\mathbb C} : |z-a_{ii}| \\leq \\sum_{j\\in\\{1,2,\\ldots,n\\}\\setminus\\{i\\}} |a_{ij}| \\bigg\\},~~\n",
        "\\mathcal{C}_j := \\bigg\\{z\\in {\\mathbb C} : |z-a_{jj}| \\leq \\sum_{i\\in\\{1,2,\\ldots,n\\}\\setminus\\{j\\}} |a_{ij}| \\bigg\\}, \n",
        "$$\n",
        "\n",
        "for $i,j\\in\\{1,2,\\ldots,n\\}$.\n",
        "Let $\\lambda_1,\\lambda_2,\\ldots,\\lambda_n$ be the eigenvalues of $A$.\n",
        "Then we have\n",
        "\n",
        "\\begin{align*}\n",
        " \\{\\lambda_1,\\lambda_2,\\ldots,\\lambda_n\\} \\subseteq \\mathcal{R}:=\\bigcup_{i=1}^n \\mathcal{R}_i,\\quad\n",
        " \\{\\lambda_1,\\lambda_2,\\ldots,\\lambda_n\\} \\subseteq \\mathcal{C}:=\\bigcup_{j=1}^n \\mathcal{C}_j,\n",
        "\\end{align*}\n",
        "\n",
        "and hence\n",
        "$\\{\\lambda_1,\\lambda_2,\\ldots,\\lambda_n\\} \\subseteq \\mathcal{R} \\cap \\mathcal{C}$."
      ]
    },
    {
      "cell_type": "markdown",
      "metadata": {
        "id": "gNIVQClLjo6F"
      },
      "source": [
        "Let us consider the following matrix:\n",
        "\n",
        "$$\n",
        "\tA=\\left[\\begin{array}{ccc}1&-6&0\\\\3&3&2\\\\-1&0&2\\end{array}\\right].\n",
        "$$\n",
        "\n",
        "We find regions of eigenvalues by using **Gershgorin circle theorem**.\n",
        "From the theorem,\n",
        "the sets $\\mathcal{R}_i$ and $\\mathcal{C}_j$ are given as\n",
        "\n",
        "$$\n",
        "\\mathcal{R}_1 = \\left\\{z\\in {\\mathbb C} : |z-1| \\leq 6 \\right\\},\n",
        "\\mathcal{R}_2 = \\left\\{z\\in {\\mathbb C} : |z-3| \\leq 5 \\right\\},\n",
        "\\mathcal{R}_3 = \\left\\{z\\in {\\mathbb C} : |z-2| \\leq 1 \\right\\}\n",
        "$$\n",
        "\n",
        "$$\n",
        "\\mathcal{C}_1 = \\left\\{z\\in {\\mathbb C} : |z-1| \\leq 4 \\right\\},\n",
        "\\mathcal{C}_2 = \\left\\{z\\in {\\mathbb C} : |z-3| \\leq 6 \\right\\},\n",
        "\\mathcal{C}_3 = \\left\\{z\\in {\\mathbb C} : |z-2| \\leq 2 \\right\\}.\n",
        "$$\n",
        "\n",
        "Let's plot the regions by Python.\n"
      ]
    },
    {
      "cell_type": "code",
      "metadata": {
        "colab": {
          "base_uri": "https://localhost:8080/",
          "height": 181
        },
        "id": "Cel8QUK6kI58",
        "outputId": "0da38c53-4b56-4291-dbb9-b29b216bddb5"
      },
      "source": [
        "import numpy as np\n",
        "import numpy.linalg as LA\n",
        "import matplotlib\n",
        "from matplotlib.patches import Circle\n",
        "from matplotlib.collections import PatchCollection\n",
        "import matplotlib.pyplot as plt\n",
        "\n",
        "# Matrix A\n",
        "A = np.array([[1,-6,0],[3,3,2],[-1,0,2]])\n",
        "\n",
        "# Eigenvalues of A\n",
        "s, V = LA.eig(A)\n",
        "\n",
        "# Gershgorin circles R and C\n",
        "R = []\n",
        "C = []\n",
        "for i in range(len(A)):\n",
        "  center_i = A[i,i]\n",
        "  radius_Ri = np.sum(np.abs(A[i,:])) - np.abs(A[i,i])\n",
        "  radius_Ci = np.sum(np.abs(A[:,i])) - np.abs(A[i,i])\n",
        "  Ri = Circle((center_i, 0), radius_Ri)\n",
        "  R.append(Ri)\n",
        "  Ci = Circle((center_i, 0), radius_Ci)\n",
        "  C.append(Ci)\n",
        "        \n",
        "# Plot circles\n",
        "fig, ax = plt.subplots(1,2)\n",
        "\n",
        "# Circles in R\n",
        "p1 = PatchCollection(R, cmap=matplotlib.cm.jet, alpha=0.1)\n",
        "ax[0].add_collection(p1)\n",
        "ax[0].axis([-6,10,-7,7])\n",
        "ax[0].set_aspect('equal',adjustable='box')\n",
        "ax[0].grid()\n",
        "\n",
        "# Circles in C\n",
        "p2 = PatchCollection(C, cmap=matplotlib.cm.jet, alpha=0.1)\n",
        "ax[1].add_collection(p2)\n",
        "ax[1].axis([-6,10,-7,7])\n",
        "ax[1].set_aspect('equal',adjustable='box')\n",
        "ax[1].grid()\n",
        "\n",
        "# Plot eigenvalues\n",
        "ax[0].plot(np.real(s),np.imag(s),'o')\n",
        "ax[1].plot(np.real(s),np.imag(s),'o')\n",
        "\n",
        "# Plot figure\n",
        "plt.show()\n"
      ],
      "execution_count": null,
      "outputs": [
        {
          "output_type": "display_data",
          "data": {
            "image/png": "[encoded data removed]",
            "text/plain": [
              "<Figure size 432x288 with 2 Axes>"
            ]
          },
          "metadata": {
            "needs_background": "light"
          }
        }
      ]
    },
    {
      "cell_type": "markdown",
      "metadata": {
        "id": "QkeX9FH8kypG"
      },
      "source": [
        "### 2.2.7 Eigenvalues of Positive and Non-negative Matrices"
      ]
    },
    {
      "cell_type": "markdown",
      "metadata": {
        "id": "gaR4DKAylOAq"
      },
      "source": [
        "**Definition:**\n",
        "- A matrix $\\Pi\\in\\{0,1\\}^{n\\times n}$ is called a **permutation matrix** if there is precisely one entry equal to 1 in each row and column, and the other entries are all 0.\n",
        "- A matrix $A\\in{\\mathbb R}^{n\\times n}$ ($n\\geq 2$) is said to be **reducible** if there exists a permutation matrix $\\Pi\\in{\\mathbb R}^{n\\times n}$ such that\n",
        "\n",
        "$$\n",
        "\t\\Pi^\\top A\\Pi = \\left[\\begin{array}{cc}A_{11}&A_{12}\\\\0&A_{22}\\end{array}\\right],\\quad \\text{$A_{11}$ and $A_{22}$ are square.}\n",
        "$$\n",
        "\n",
        "- For $n=1$, $A$ is said to be reducible if $A=0$.\n",
        "- We say $A\\in{\\mathbb R}^{n\\times n}$ is **irreducible**\n",
        "if $A$ is not reducible.\n"
      ]
    },
    {
      "cell_type": "markdown",
      "metadata": {
        "id": "k5_zeKZ1mm3i"
      },
      "source": [
        "**Theorem:**\n",
        "A matrix $A=[a_{ij}]\\in\\mathbb{R}^{n\\times n}$ with $n\\geq 2$ is irreducible if and only if\n",
        "$(I+{\\rm abs}(A))^{n-1}$ is positive, that is,\n",
        "\n",
        "$$\n",
        " \\bigl(I+{\\rm abs}(A)\\bigr)^{n-1}>0\n",
        "$$\n",
        "\n",
        "where ${\\rm abs}(A)$ is a matrix whose $(i,j)$-entry is\n",
        "$|a_{ij}|$,\n",
        "namely, \n",
        "\n",
        "$${\\rm abs}(A)=\\begin{bmatrix}|a_{11}|&\\ldots&|a_{1n}|\\\\ \\vdots & \\ddots & \\vdots\\\\ |a_{n1}| & \\ldots & |a_{nn}|\\end{bmatrix}\n",
        "\\in\\mathbb{R}^{n\\times n}$$"
      ]
    },
    {
      "cell_type": "markdown",
      "metadata": {
        "id": "7Mabd2UGnQ4Q"
      },
      "source": [
        "For non-negative matrices, the following theorem is known as\n",
        "**Perron-Frobenius theorem**.\n",
        "\n",
        "**Theorem (Perron-Frobenius theorem):**\n",
        "Let $A\\in{\\mathbb R}^{n\\times n}$ be a non-negative matrix.\n",
        "Then, the spectral radius $\\rho(A)$, the maximum absolute eigenvalue of $A$, is equal to\n",
        "an eigenvector of $A$,\n",
        "and there is a non-negative eigenvector (i.e., an eigenvector whose elements are all non-negative)\n",
        "associated with this eigenvalue.\n",
        "Moreover, if $A$ is also irreducible,\n",
        "then the following properties hold:\n",
        "1. $\\rho(A)>0$.\n",
        "2. $\\rho(A)$ is equal to a simple eigenvalue of $A$.\n",
        "3. There exists a positive eigenvector (i.e., the elements are all positive)  associated with an eigenvalue equal to $\\rho(A)$.\n",
        "\n"
      ]
    },
    {
      "cell_type": "markdown",
      "metadata": {
        "id": "BZSFYBn_n8NX"
      },
      "source": [
        "For positive matrices, we have the following theorem\n",
        "called **Perron theorem**.\n",
        "\n",
        "**Theorem (Peron theorem):**\n",
        "Suppose $A\\in{\\mathbb R}^{n\\times n}$ is positive. Then \n",
        "the following properties hold:\n",
        "1. $\\rho(A)>0$.\n",
        "2. $\\rho(A)$ is equal to a simple eigenvalue of $A$, and the other eigenvalues are strictly less than $\\rho(A)$.\n",
        "3. There exists a positive eigenvector associated with an eigenvalue equal to $\\rho(A)$.\n",
        "\n"
      ]
    },
    {
      "cell_type": "markdown",
      "metadata": {
        "id": "dRWNTHeTohFY"
      },
      "source": [
        "---"
      ]
    },
    {
      "cell_type": "markdown",
      "metadata": {
        "id": "AJohauOMoP_R"
      },
      "source": [
        "Now we check the two theorems by Python.\n",
        "\n",
        "Let us consider the following matrix:\n",
        "\n",
        "$$\n",
        "\tA_1=\\begin{bmatrix}1&0&0\\\\0&1&1\\\\0&0&1\\end{bmatrix}.\n",
        "$$\n",
        "\n",
        "First we compute $(I+\\mathrm{abs}(A_1))^{n-1}$ with $n=3$.\n"
      ]
    },
    {
      "cell_type": "code",
      "metadata": {
        "colab": {
          "base_uri": "https://localhost:8080/"
        },
        "id": "NggJImNTojcx",
        "outputId": "8d61c331-0488-4990-fb59-cce8f0a4cc87"
      },
      "source": [
        "A1 = np.array([[1,0,0],[0,1,1],[0,0,1]])\n",
        "B1 = np.eye(3) + abs(A1)\n",
        "print(np.dot(B1,B1))"
      ],
      "execution_count": null,
      "outputs": [
        {
          "output_type": "stream",
          "name": "stdout",
          "text": [
            "[[4. 0. 0.]\n",
            " [0. 4. 4.]\n",
            " [0. 0. 4.]]\n"
          ]
        }
      ]
    },
    {
      "cell_type": "markdown",
      "metadata": {
        "id": "b0kAoumQooH0"
      },
      "source": [
        "Since this matrix is not positive (although it is non-negative), $A_1$ is a **reducible** non-negative matrix.\n",
        "\n",
        "\n",
        "We then compute the eigenvalues and the spectral radius $\\rho(A_1)$ as:"
      ]
    },
    {
      "cell_type": "code",
      "metadata": {
        "colab": {
          "base_uri": "https://localhost:8080/"
        },
        "id": "5Mh2JfEMofCn",
        "outputId": "1ac717d8-65d1-47f3-f6b4-89973473dbb1"
      },
      "source": [
        "s, V = LA.eig(A1)\n",
        "print(s)"
      ],
      "execution_count": null,
      "outputs": [
        {
          "output_type": "stream",
          "name": "stdout",
          "text": [
            "[1. 1. 1.]\n"
          ]
        }
      ]
    },
    {
      "cell_type": "markdown",
      "metadata": {
        "id": "EGeUk24ppJ_e"
      },
      "source": [
        "From this, the eigenvalues of $A_1$ are $\\{1,1,1\\}$ (multiplicity 3), and hence **the spectral radius\n",
        "$\\rho(A_1)=1$ is equal to the eigenvalue of $A_1$**.\n",
        "\n",
        "Also, we can take a non-negative eigenvector $[1, 0, 0]^\\top$ associated with $\\rho(A_1)=1$.\n",
        "\n",
        "Actually, seeing `V` by `print(V)` we have\n"
      ]
    },
    {
      "cell_type": "code",
      "metadata": {
        "colab": {
          "base_uri": "https://localhost:8080/"
        },
        "id": "fw7M-y8-pXTx",
        "outputId": "a1d0bf89-af12-4dc3-e0a2-faa8ae458771"
      },
      "source": [
        "print(V)"
      ],
      "execution_count": null,
      "outputs": [
        {
          "output_type": "stream",
          "name": "stdout",
          "text": [
            "[[ 1.00e+00  0.00e+00  0.00e+00]\n",
            " [ 0.00e+00  1.00e+00 -1.00e+00]\n",
            " [ 0.00e+00  0.00e+00  2.22e-16]]\n"
          ]
        }
      ]
    },
    {
      "cell_type": "markdown",
      "metadata": {
        "id": "-DxPV1inqlJ3"
      },
      "source": [
        "---"
      ]
    },
    {
      "cell_type": "markdown",
      "metadata": {
        "id": "2h-Hpa_JpeMK"
      },
      "source": [
        "Let us consider another matrix\n",
        "\n",
        "$$\n",
        "\tA_2=\\begin{bmatrix}1&0&1\\\\1&1&1\\\\0&1&1\\end{bmatrix}.\n",
        "$$\n",
        "\n",
        "Let's compute $(I+{\\rm abs}(A_2))^2$:"
      ]
    },
    {
      "cell_type": "code",
      "metadata": {
        "colab": {
          "base_uri": "https://localhost:8080/"
        },
        "id": "47eVclS8p6P8",
        "outputId": "acde51c7-8f2a-482b-8af6-842893b00f97"
      },
      "source": [
        "A2 = np.array([[1,0,1],[1,1,1],[0,1,1]])\n",
        "B2 = np.eye(3) + abs(A2)\n",
        "print(np.dot(B2,B2))"
      ],
      "execution_count": null,
      "outputs": [
        {
          "output_type": "stream",
          "name": "stdout",
          "text": [
            "[[4. 1. 4.]\n",
            " [4. 5. 5.]\n",
            " [1. 4. 5.]]\n"
          ]
        }
      ]
    },
    {
      "cell_type": "markdown",
      "metadata": {
        "id": "6PevH7I7qJX1"
      },
      "source": [
        "Therefore $(I+{\\rm abs}(A_2))^2>0$, and hence\n",
        "this is an **irreducible** non-negative matrix.\n",
        "\n",
        "Let us obtain the eigenvalues and eigenvectors."
      ]
    },
    {
      "cell_type": "code",
      "metadata": {
        "colab": {
          "base_uri": "https://localhost:8080/"
        },
        "id": "M4ZJ_yTjqXSU",
        "outputId": "63cf6d43-90e8-4132-9e52-4cf7d5704710"
      },
      "source": [
        "s, V = LA.eig(A2)\n",
        "print(s)\n",
        "print(V)"
      ],
      "execution_count": null,
      "outputs": [
        {
          "output_type": "stream",
          "name": "stdout",
          "text": [
            "[0.34+0.56j 0.34-0.56j 2.32+0.j  ]\n",
            "[[ 0.66+0.j    0.66-0.j    0.41+0.j  ]\n",
            " [ 0.08-0.49j  0.08+0.49j  0.73+0.j  ]\n",
            " [-0.43+0.37j -0.43-0.37j  0.55+0.j  ]]\n"
          ]
        }
      ]
    },
    {
      "cell_type": "markdown",
      "metadata": {
        "id": "o_q3e33pqaeo"
      },
      "source": [
        "This implies that the eigenvalues of $A_2$ are $\\{0.34\\pm0.56{\\mathrm j}, 2.32\\}$, and the spectral radius\n",
        "$\\rho(A_2)=2.32$ is equal to a simple eigenvalue of $A_2$.\n",
        "Also, we can take a positive eigenvector $[0.41, 0.73, 0.55]^\\top$\n",
        "associated with eigenvalue $\\rho(A_2)=2.32$."
      ]
    },
    {
      "cell_type": "markdown",
      "metadata": {
        "id": "imGFX2lfqm1i"
      },
      "source": [
        "---"
      ]
    },
    {
      "cell_type": "markdown",
      "metadata": {
        "id": "U9EdCusrqoQN"
      },
      "source": [
        "Finally, we consider\n",
        "\n",
        "$$\n",
        "\tA_3=\\begin{bmatrix}1&1&1\\\\2&1&1\\\\1&1&1\\end{bmatrix}.\n",
        "$$\n",
        "\n",
        "This is a positive matrix. \n",
        "The eigenvalues of $A_3$ are obtained by\n",
        "\n"
      ]
    },
    {
      "cell_type": "code",
      "metadata": {
        "colab": {
          "base_uri": "https://localhost:8080/"
        },
        "id": "s05Au58vqy2u",
        "outputId": "95f91fdf-1e4e-4ee8-cec2-4de1efe197aa"
      },
      "source": [
        "A3 = np.array([[1,1,1],[2,1,1],[1,1,1]])\n",
        "s, V = LA.eig(A3)\n",
        "print(s)\n",
        "print(V)"
      ],
      "execution_count": null,
      "outputs": [
        {
          "output_type": "stream",
          "name": "stdout",
          "text": [
            "[ 3.30e+00 -3.03e-01 -1.88e-17]\n",
            "[[-0.52 -0.37  0.  ]\n",
            " [-0.68  0.85 -0.71]\n",
            " [-0.52 -0.37  0.71]]\n"
          ]
        }
      ]
    },
    {
      "cell_type": "markdown",
      "metadata": {
        "id": "IVmpucpQqzPU"
      },
      "source": [
        "The eigenvalues are $\\{3.30, -0.30, 0\\}$, and the spectral radius\n",
        "$\\rho(A_3)=3.30$ is equal to a simple eigenvalue $3.30$ of $A_3$.\n",
        "\n",
        "We can take a positive eigenvector $[0.52, 0.68, 0.52]^\\top$\n",
        "associated with eigenvalue $\\rho(A_3)=3.30$."
      ]
    },
    {
      "cell_type": "markdown",
      "metadata": {
        "id": "jGtaZx8Ct8P5"
      },
      "source": [
        "### 2.2.8 Eigenvalues of Real Symmetric Matrices\n",
        "\n",
        "**Theorem:**\n",
        "Every real symmetric $A\\in{\\mathbb R}^{n\\times n}$ is **semi-simple** and **diagonalizable**.\n",
        "Moreover, the eigenvalues of real symmetric $A$ are **all real** and any two eigenvectors\n",
        "associated with distinct eigenvalues are **mutually orthogonal**.\n",
        "\n"
      ]
    },
    {
      "cell_type": "markdown",
      "metadata": {
        "id": "dymaqaQfwLMO"
      },
      "source": [
        "\n",
        "**Definition:**\n",
        "Let $A\\in{\\mathbb R}^{n\\times n}$ be a symmetric matrix.\n",
        "- We say $A$ is **positive definite**\n",
        "if $x^\\top A x>0$ holds for any non-zero vector $x\\in{\\mathbb R}^n$.\n",
        "- We say $A$ is **positive semidefinite**\n",
        "if $x^\\top A x\\geq 0$ holds for any $x\\in\\mathbb{R}^n$.\n",
        "- We say $A$ is **negative definite**\n",
        " (or **negative semidefinite**)\n",
        "if $-A$ is positive definite (or positive semidefinite).\n"
      ]
    },
    {
      "cell_type": "markdown",
      "metadata": {
        "id": "-d-tlKcswMPU"
      },
      "source": [
        "**Theorem:**\n",
        "A real symmetric matrix $A\\in{\\mathbb R}^{n\\times n}$ is positive definite (or positive semidefinite)\n",
        "if and only if the **eigenvalues of $A$ are all positive** (or **non-negative**)."
      ]
    },
    {
      "cell_type": "markdown",
      "metadata": {
        "id": "y1N7_VC_waRJ"
      },
      "source": [
        "Let us consider the following symmetric matrix:\n",
        "\n",
        "$$\n",
        " A_1 = \\begin{bmatrix}2&1\\\\1&2\\end{bmatrix}.\n",
        "$$\n",
        "\n",
        "The Python code for the eigenvalues is as follows."
      ]
    },
    {
      "cell_type": "code",
      "metadata": {
        "colab": {
          "base_uri": "https://localhost:8080/"
        },
        "id": "9RGM9oCGwhwl",
        "outputId": "7c8c10bb-335e-4f02-f3bc-8f4ad1987401"
      },
      "source": [
        "A1 = np.array([[2,1],[1,2]])\n",
        "s, V = LA.eig(A1)\n",
        "print(s)"
      ],
      "execution_count": null,
      "outputs": [
        {
          "output_type": "stream",
          "name": "stdout",
          "text": [
            "[3. 1.]\n"
          ]
        }
      ]
    },
    {
      "cell_type": "markdown",
      "metadata": {
        "id": "l7WAnk8_wk4v"
      },
      "source": [
        "The eigenvalues are $3$ and $1$, and hence $A_1$ is **positive definite** from the above theorem.\n",
        "\n",
        "Then, we compute the eigenvalues of\n",
        "$$\n",
        " A_2 = \\begin{bmatrix}1&1\\\\1&1\\end{bmatrix}.\n",
        "$$\n"
      ]
    },
    {
      "cell_type": "code",
      "metadata": {
        "colab": {
          "base_uri": "https://localhost:8080/"
        },
        "id": "7B_agV5yw4Hk",
        "outputId": "d6e72dbe-1d97-4d12-ab85-eb627c255c3f"
      },
      "source": [
        "A2 = np.array([[1,1],[1,1]])\n",
        "s, V = LA.eig(A2)\n",
        "print(s)"
      ],
      "execution_count": null,
      "outputs": [
        {
          "output_type": "stream",
          "name": "stdout",
          "text": [
            "[2. 0.]\n"
          ]
        }
      ]
    },
    {
      "cell_type": "markdown",
      "metadata": {
        "id": "ieFR-Agkw-bd"
      },
      "source": [
        "The eigenvalues of $A_2$ as $0$ and $2$.\n",
        "It follows from the above theorem\n",
        "that $A_2$ is **positive semidefinite**."
      ]
    },
    {
      "cell_type": "markdown",
      "metadata": {
        "id": "_JTV7nh3xJAW"
      },
      "source": [
        "### 2.2.9 Matrix exponential\n",
        "\n",
        "**Definition:**\n",
        "For a square matrix $A\\in{\\mathbb R}^{n\\times n}$, we define\n",
        "the **matrix exponential** $e^A$ by\n",
        "$$\n",
        " e^{A}:=\\sum_{k=0}^\\infty \\frac{1}{k!}A^k. \n",
        "$$\n"
      ]
    },
    {
      "cell_type": "markdown",
      "metadata": {
        "id": "v4ifcw3VxWUw"
      },
      "source": [
        "The matrix exponential has the following properties:\n",
        "\n",
        "**Theorem:**\n",
        "1. $e^{0} = I$ holds, where $0\\in{\\mathbb R}^{n\\times n}$ is the zero matrix. \n",
        "2. If two matrices $A_1\\in{\\mathbb R}^{n\\times n}$ and $A_2\\in{\\mathbb R}^{n\\times n}$ \n",
        "are commutative (i.e., $A_1A_2=A_2A_1$), then\n",
        "$$\n",
        " e^{A_1}e^{A_2}=e^{A_1+A_2}\n",
        "$$\n",
        "holds. In particular, for any\n",
        "$A\\in{\\mathbb R}^{n\\times n}$ and any $t_1,t_2\\in{\\mathbb R}$, we have\n",
        "\n",
        "$$\n",
        "e^{At_1}e^{At_2} = e^{A(t_1+t_2)}.\n",
        "$$\n",
        "\n",
        "3. For any $A\\in{\\mathbb R}^{n\\times n}$ and any non-singular $T\\in{\\mathbb R}^{n\\times n}$,\n",
        "we have\n",
        "$$\n",
        " e^{TAT^{-1}}=Te^{A}T^{-1}.\n",
        "$$\n",
        "\n",
        "4. For any $A\\in{\\mathbb R}^{n\\times n}$, we have\n",
        "$e^{A}e^{-A} = I$.\n",
        "That is, $e^{-A}$ is the inverse matrix of $e^{A}$.\n",
        "\n",
        "5. Let $\\{\\lambda_1,\\lambda_2,\\ldots,\\lambda_n\\}$ be the eigenvalues of\n",
        "$A\\in{\\mathbb R}^{n\\times n}$. Then the eigenvalues of \n",
        "$e^A$ are given by $\\{e^{\\lambda_1},e^{\\lambda_2},\\ldots,e^{\\lambda_n}\\}$.\n",
        "\n"
      ]
    },
    {
      "cell_type": "markdown",
      "metadata": {
        "id": "4MufOXsgyD8g"
      },
      "source": [
        "In systems and control, the matrix exponential $e^{At}$ with \n",
        "**time parameter** $t$ is especially important.\n",
        "This matrix exponential is related to **linear differential equations**.\n",
        "\n",
        "**Theorem:**\n",
        "Let us consider the following differential equation:\n",
        "\n",
        "$$\n",
        " \\dot{x}(t) = Ax(t), \\quad x(0)=x_0\\in{\\mathbb R}^n,\n",
        "$$\n",
        "\n",
        "where $x(t)$ is a vector in ${\\mathbb R}^n$ at time $t\\geq 0$.\n",
        "Then, the solution of the above differential equation is given by\n",
        "\n",
        "$$\n",
        " x(t) = e^{At}x_0,\\quad t\\geq 0.\n",
        "$$\n"
      ]
    },
    {
      "cell_type": "markdown",
      "metadata": {
        "id": "FCgiALbmyeSL"
      },
      "source": [
        "---"
      ]
    },
    {
      "cell_type": "markdown",
      "metadata": {
        "id": "njYESkb8yg4Y"
      },
      "source": [
        "Let us consider the following matrix:\n",
        "\n",
        "$$\n",
        " A = \\begin{bmatrix}1&1&0\\\\0&1&1\\\\0&0&1\\end{bmatrix}.\n",
        "$$\n",
        "\n",
        "We compute the matrix exponential $e^A$ of this matrix by Python.\n",
        "\n",
        "For the matrix exponential, you need to import \n",
        "`linalg` submodule from\n",
        "`SciPy` (not `NumPy`) library. Then you can use `expm` function\n",
        "for the matrix exponential.\n"
      ]
    },
    {
      "cell_type": "code",
      "metadata": {
        "colab": {
          "base_uri": "https://localhost:8080/"
        },
        "id": "yIDODoZGy6W-",
        "outputId": "d82e8052-8ed5-458a-ba09-97745ed9a2ef"
      },
      "source": [
        "from scipy import linalg\n",
        "A = np.array([[1,1,0],[0,1,1],[0,0,1]])\n",
        "expA = linalg.expm(A)\n",
        "print(expA)"
      ],
      "execution_count": null,
      "outputs": [
        {
          "output_type": "stream",
          "name": "stdout",
          "text": [
            "[[2.72 2.72 1.36]\n",
            " [0.   2.72 2.72]\n",
            " [0.   0.   2.72]]\n"
          ]
        }
      ]
    },
    {
      "cell_type": "markdown",
      "metadata": {
        "id": "deCrnUYFy_e7"
      },
      "source": [
        "Finally, we look into the **stability**\n",
        "of a differential equation.\n",
        "The following theorem is a fundamental theorem of stability.\n",
        "\n",
        "**Theorem (stability):**\n",
        "The solution $x(t)$ of the differential equation\n",
        "$$\n",
        "  \\dot{x}(t) = Ax(t), \\quad x(0)=x_0\\in{\\mathbb R}^n,\n",
        "$$\n",
        "converges to zero as $t\\rightarrow \\infty$ for any initial vector $x(0)=x_0$ if and only if the **eigenvalues** of $A$ lie in the **open\n",
        "left half plane** $\\{z\\in\\mathbb{C}: \\mathrm{Re}(z)<0\\}$.\n",
        "\n",
        "- If the condition in the above theorem holds,\n",
        "then the matrix $A$ is called a **Hurwitz matrix**.\n",
        "\n"
      ]
    },
    {
      "cell_type": "markdown",
      "metadata": {
        "id": "CLjvwQkWz7w5"
      },
      "source": [
        "Let's do simulation of a differential equation with\n",
        "\n",
        "$$\n",
        " A = \\begin{bmatrix}0&1&0\\\\0&0&1\\\\-1&-2&-1\\end{bmatrix}\n",
        "$$\n",
        "\n",
        "First, check the eigenvalues:"
      ]
    },
    {
      "cell_type": "code",
      "metadata": {
        "colab": {
          "base_uri": "https://localhost:8080/"
        },
        "id": "fa5lWaum0Qwq",
        "outputId": "ef372c75-82bc-4c63-dd89-30a95a165bc4"
      },
      "source": [
        "A = np.array([[0,1,0],[0,0,1],[-1,-2,-1]])\n",
        "s, V = LA.eig(A)\n",
        "print(s)"
      ],
      "execution_count": null,
      "outputs": [
        {
          "output_type": "stream",
          "name": "stdout",
          "text": [
            "[-0.57+0.j   -0.22+1.31j -0.22-1.31j]\n"
          ]
        }
      ]
    },
    {
      "cell_type": "markdown",
      "metadata": {
        "id": "ItLFYZ840elO"
      },
      "source": [
        "Since all the eivenbalue of $A$ have negative real parts, and hence $A$ is Hurwitz.\n",
        "\n",
        "Then do simulation of the system."
      ]
    },
    {
      "cell_type": "code",
      "metadata": {
        "colab": {
          "base_uri": "https://localhost:8080/",
          "height": 279
        },
        "id": "TR-pKA0rz_u1",
        "outputId": "dafcd123-5e1e-4eef-c311-54b96019b22e"
      },
      "source": [
        "%matplotlib inline\n",
        "import matplotlib\n",
        "import numpy as np\n",
        "from scipy.integrate import odeint\n",
        "import matplotlib.pyplot as plt\n",
        "\n",
        "A = np.array([[0,1,0],[0,0,1],[-1,-2,-1]])\n",
        "\n",
        "def Ax(x,t,A):\n",
        "  dxdt = np.dot(A,x)\n",
        "  return dxdt\n",
        "\n",
        "x0 = np.array([1,1,1])\n",
        "t = np.arange(0, 20, 0.001)\n",
        "x = odeint(Ax, x0, t, args=(A,))\n",
        "\n",
        "fig, ax = plt.subplots(1,1)\n",
        "plt.plot(t,x)\n",
        "plt.xlabel('t')\n",
        "plt.ylabel('x')\n",
        "plt.grid()\n",
        "plt.show()\n"
      ],
      "execution_count": null,
      "outputs": [
        {
          "output_type": "display_data",
          "data": {
            "image/png": "[encoded data removed]",
            "text/plain": [
              "<Figure size 432x288 with 1 Axes>"
            ]
          },
          "metadata": {
            "needs_background": "light"
          }
        }
      ]
    },
    {
      "cell_type": "markdown",
      "metadata": {
        "id": "_RkeO87301oO"
      },
      "source": [
        "We can see that the three elements in the vector $x(t)\\in\\mathbb{R}^3$ converge to zero as $t$ goes to $\\infty$."
      ]
    },
    {
      "cell_type": "markdown",
      "metadata": {
        "id": "kJcATawVWEGt"
      },
      "source": [
        "## 2.3 Graph Theory\n",
        "\n",
        "## 2.3.1 What is a graph?\n",
        "\n",
        "**Definition (graph):**\n",
        "- A graph is a mathematical object that is useful to model a **network**.\n",
        "- A graph has multiple **nodes** (or **vertices**), and **edges** that connect nodes.\n",
        "- Mathematically, a graph is a pair of **sets** of nodes and edges.\n",
        "For example, if we have the node set\n",
        "$\\cal{V}=\\{1,2,\\ldots,n\\}$ and the edge set\n",
        "$\\cal{E} \\subset \\cal{V}\\times\\cal{V}$,\n",
        "then the graph is defined as\n",
        "$G=(\\cal{V},\\cal{E})$.\n",
        "- **Undirected graphs** have no directed edges.\n",
        "- **Directed graphs** (or **digraph**) have directed edges.\n",
        "\n",
        "**NetworkX** package is used to define a graph in Python:\n"
      ]
    },
    {
      "cell_type": "code",
      "metadata": {
        "id": "ujvql980zT5A"
      },
      "source": [
        "# Common initialization\n",
        "import numpy as np\n",
        "import networkx as nx\n",
        "import numpy.linalg as LA\n",
        "\n",
        "np.set_printoptions(precision=2)\n"
      ],
      "execution_count": null,
      "outputs": []
    },
    {
      "cell_type": "code",
      "metadata": {
        "id": "u_XRJhSaXCKC"
      },
      "source": [
        "import networkx as nx\n",
        "G1 = nx.DiGraph() #Directed graph\n",
        "V = [1,2,3,4] #Set of nodes\n",
        "G1.add_nodes_from(V)\n",
        "E = [(1,2),(1,3),(3,2),(3,4),(4,1)] #Set of edges\n",
        "G1.add_edges_from(E)"
      ],
      "execution_count": null,
      "outputs": []
    },
    {
      "cell_type": "markdown",
      "metadata": {
        "id": "yhimX727YcuY"
      },
      "source": [
        "- The first line imports **NetworkX** package.\n",
        "- In the second line, an empty graph object \\texttt{G} of a **directed graph** is generated by\n",
        "`DiGraph` function in NetworkX package.\n",
        "- For an undirected graph, you need to use \n",
        "`nx.Graph()`.\n",
        "- The third line defines the **node set** $\\mathcal{V}=\\{1,2,3,4\\}$,\n",
        "and the fourth line puts this set into the graph object `G`.\n",
        "- Also, the fifth line defines the **edge set**\n",
        "\n",
        "$$\n",
        " \\mathcal{E}=\\{(1,2), (1,3), (3,2), (3,4), (4,1)\\},\n",
        "$$\n",
        "\n",
        "and the sixth line adds this in `G`.\n"
      ]
    },
    {
      "cell_type": "markdown",
      "metadata": {
        "id": "UTnvhZWlZIE5"
      },
      "source": [
        "**Graph visualization:**\n",
        "Then, let us **visualize** this graph by `draw` function in NetworkX.\n",
        "You can do the following:"
      ]
    },
    {
      "cell_type": "code",
      "metadata": {
        "colab": {
          "base_uri": "https://localhost:8080/",
          "height": 319
        },
        "id": "1XtvB2UHZVdq",
        "outputId": "e5a1f9d2-2ba9-4d93-f12d-31bc7066a305"
      },
      "source": [
        "nx.draw(G1, node_size=1000, \n",
        "          node_color='orange', with_labels=True)"
      ],
      "execution_count": null,
      "outputs": [
        {
          "output_type": "display_data",
          "data": {
            "image/png": "[encoded data removed]",
            "text/plain": [
              "<Figure size 432x288 with 1 Axes>"
            ]
          },
          "metadata": {}
        }
      ]
    },
    {
      "cell_type": "markdown",
      "metadata": {
        "id": "BtUe8v8cWpXW"
      },
      "source": [
        "**Zachary's network:**\n",
        "A graph with the nodes of the 34 members of the Karate club,\n",
        "and the 78 edges of the true relationship between club members who\n",
        "regularly interacted outside the club.\n"
      ]
    },
    {
      "cell_type": "code",
      "metadata": {
        "colab": {
          "base_uri": "https://localhost:8080/",
          "height": 319
        },
        "id": "XwvMPNRaZcUE",
        "outputId": "c850792b-5672-4ce3-bc9b-7acfc1d2d409"
      },
      "source": [
        "G2 = nx.karate_club_graph()\n",
        "nx.draw(G2, node_size=500, \n",
        "          node_color='orange', with_labels=True)"
      ],
      "execution_count": null,
      "outputs": [
        {
          "output_type": "display_data",
          "data": {
            "image/png": "[encoded data removed]",
            "text/plain": [
              "<Figure size 432x288 with 1 Axes>"
            ]
          },
          "metadata": {}
        }
      ]
    },
    {
      "cell_type": "markdown",
      "metadata": {
        "id": "iVyrLwNKaKaG"
      },
      "source": [
        "**Definition (degree):**\n",
        "Let us consider a directed graph $G=(\\mathcal{V},\\mathcal{E})$.\n",
        "- For a node $i\\in\\mathcal{V}$,\n",
        "the number of head ends adjacent to $i$ is called the **in-degree**,\n",
        "and denoted by $d_i^{\\mathrm{in}}$.\n",
        "- Likewise, the number of tail ends adjacent to $i$ is called the **out-degree**\n",
        "and denoted by $d_i^{\\mathrm{out}}$. \n",
        "- The **maximum degree** is the maximum number between the in-degrees of $i\\in\\mathcal{V}$, namely,\n",
        "\n",
        "$$\n",
        "\\Delta:=\\max_{i\\in\\mathcal{V}} d^{\\mathrm{in}}_i. \n",
        "$$\n",
        "\n",
        "- For a directed graph $G$, it is said to be **balanced**\n",
        "if $d_i^{\\mathrm{in}}=d_i^{\\mathrm{out}}$ for all $i \\in \\mathcal{V}$.\n"
      ]
    },
    {
      "cell_type": "markdown",
      "metadata": {
        "id": "n9Q6r2Rzaw7n"
      },
      "source": [
        "Let's compute the in- and out-degrees of `G1` as defined above."
      ]
    },
    {
      "cell_type": "code",
      "metadata": {
        "colab": {
          "base_uri": "https://localhost:8080/"
        },
        "id": "EsLJvCQSZgBD",
        "outputId": "5f44675f-cab5-441d-d168-77c816dd6bff"
      },
      "source": [
        "print(G1.in_degree())\n",
        "print(G1.out_degree())"
      ],
      "execution_count": null,
      "outputs": [
        {
          "output_type": "stream",
          "name": "stdout",
          "text": [
            "[(1, 1), (2, 2), (3, 1), (4, 1)]\n",
            "[(1, 2), (2, 0), (3, 2), (4, 1)]\n"
          ]
        }
      ]
    },
    {
      "cell_type": "markdown",
      "metadata": {
        "id": "y-0CTcGxbhr7"
      },
      "source": [
        "Namely, we have\n",
        "\n",
        "$$\n",
        " \\begin{split}\n",
        " d_1^{\\mathrm{in}} &= 1, ~~\n",
        " d_2^{\\mathrm{in}} = 2, ~~\n",
        " d_3^{\\mathrm{in}} = 1, ~~\n",
        " d_4^{\\mathrm{in}} = 1, \\\\\n",
        " d_1^{\\mathrm{out}} &= 2, ~~\n",
        " d_2^{\\mathrm{out}} = 0, ~~\n",
        " d_3^{\\mathrm{out}} = 2, ~~\n",
        " d_4^{\\mathrm{out}} = 1,\n",
        " \\end{split}\n",
        "$$\n"
      ]
    },
    {
      "cell_type": "markdown",
      "metadata": {
        "id": "KcbJvB06cUep"
      },
      "source": [
        "- For an undirected graph, we only define the **degree**\n",
        " of node $i\\in\\mathcal{V}$,\n",
        "the number of edges connected with $i$.\n",
        "- Note that **every undirected graph is balanced**.\n",
        "\n",
        "Let's compute the maximum degree $\\Delta$ of\n",
        "Zachary's Karate Club network by Python:"
      ]
    },
    {
      "cell_type": "code",
      "metadata": {
        "colab": {
          "base_uri": "https://localhost:8080/"
        },
        "id": "CQ1xQasFcCc_",
        "outputId": "55a499d8-a467-4dba-90f1-421bdf20c818"
      },
      "source": [
        "G2_degrees = [di for (i,di) in G2.degree()]\n",
        "print(G2_degrees)"
      ],
      "execution_count": null,
      "outputs": [
        {
          "output_type": "stream",
          "name": "stdout",
          "text": [
            "[16, 9, 10, 6, 3, 4, 4, 4, 5, 2, 3, 1, 2, 5, 2, 2, 2, 2, 2, 3, 2, 2, 2, 5, 3, 3, 2, 4, 3, 4, 4, 6, 12, 17]\n"
          ]
        }
      ]
    },
    {
      "cell_type": "code",
      "metadata": {
        "colab": {
          "base_uri": "https://localhost:8080/"
        },
        "id": "pCHZR38LcmV_",
        "outputId": "adea4d5f-19a2-4627-80e2-e41b444f843d"
      },
      "source": [
        "print(max(G2_degrees))"
      ],
      "execution_count": null,
      "outputs": [
        {
          "output_type": "stream",
          "name": "stdout",
          "text": [
            "17\n"
          ]
        }
      ]
    },
    {
      "cell_type": "markdown",
      "metadata": {
        "id": "GTR43TEChIAk"
      },
      "source": [
        "Let's draw a balanced graph."
      ]
    },
    {
      "cell_type": "code",
      "metadata": {
        "colab": {
          "base_uri": "https://localhost:8080/",
          "height": 319
        },
        "id": "jLJqWMvmhM4P",
        "outputId": "ad036476-59c5-4222-e43f-0a9d4f067e46"
      },
      "source": [
        "G3 = nx.DiGraph() #Directed graph\n",
        "V = [1,2,3,4,5,6] #Set of nodes\n",
        "G3.add_nodes_from(V)\n",
        "E = [(1,2),(2,3),(2,4),(3,2),(3,5),(4,3),(4,6),(5,4),(6,1)] #Set of edges\n",
        "G3.add_edges_from(E)\n",
        "nx.draw(G3, node_size=500, \n",
        "          node_color='orange', with_labels=True)"
      ],
      "execution_count": null,
      "outputs": [
        {
          "output_type": "display_data",
          "data": {
            "image/png": "[encoded data removed]",
            "text/plain": [
              "<Figure size 432x288 with 1 Axes>"
            ]
          },
          "metadata": {}
        }
      ]
    },
    {
      "cell_type": "markdown",
      "metadata": {
        "id": "XDKDuyH2hxmz"
      },
      "source": [
        "You can check this is balanced by checking in- and out-degrees:"
      ]
    },
    {
      "cell_type": "code",
      "metadata": {
        "colab": {
          "base_uri": "https://localhost:8080/"
        },
        "id": "rxpYGVr3hq3C",
        "outputId": "16374fdf-fff3-4e5c-efaf-80af4863030f"
      },
      "source": [
        "print(G3.in_degree())\n",
        "print(G3.out_degree())"
      ],
      "execution_count": null,
      "outputs": [
        {
          "output_type": "stream",
          "name": "stdout",
          "text": [
            "[(1, 1), (2, 2), (3, 2), (4, 2), (5, 1), (6, 1)]\n",
            "[(1, 1), (2, 2), (3, 2), (4, 2), (5, 1), (6, 1)]\n"
          ]
        }
      ]
    },
    {
      "cell_type": "markdown",
      "metadata": {
        "id": "puXovF62fi7-"
      },
      "source": [
        "### 2.3.2 Connectivity\n",
        "\n",
        "**Definition (directed path):**\n",
        "For a directed graph $G=(\\mathcal{V},\\mathcal{E})$,\n",
        "a **directed path** of length $m$ is a sequence of nodes in $\\mathcal{V}$\n",
        "as\n",
        "\n",
        "$$\n",
        " \\{i_0,i_1,\\ldots,i_m\\}\n",
        "$$\n",
        "\n",
        "where $(i_k,i_{k+1})\\in\\mathcal{E}$ for any $k \\in \\{0,1,\\ldots,m-1\\}$.\n",
        "\n",
        "- Intuitively, a path is a trajectory of your pen drawn from $i_0$ to $i_m$ \n",
        "through edges of the graph with a single stroke.\n",
        "\n"
      ]
    },
    {
      "cell_type": "markdown",
      "metadata": {
        "id": "BSh87KPRiDcY"
      },
      "source": [
        "**Example:**\n",
        "Let's consider the digraph `G3`:"
      ]
    },
    {
      "cell_type": "code",
      "metadata": {
        "colab": {
          "base_uri": "https://localhost:8080/",
          "height": 319
        },
        "id": "MImfWUAeiLCB",
        "outputId": "b44aaa1f-e6f4-4aaf-b6db-f13476b2652c"
      },
      "source": [
        "nx.draw(G3, node_size=1000, \n",
        "          node_color='orange', with_labels=True)"
      ],
      "execution_count": null,
      "outputs": [
        {
          "output_type": "display_data",
          "data": {
            "image/png": "[encoded data removed]",
            "text/plain": [
              "<Figure size 432x288 with 1 Axes>"
            ]
          },
          "metadata": {}
        }
      ]
    },
    {
      "cell_type": "markdown",
      "metadata": {
        "id": "PMP8xj_BiL4a"
      },
      "source": [
        "The sequence $\\{1,2,4,6\\}$ is a directed path from $1$ to $6$,\n",
        "and $\\{1,2,3,5,4,3,5,4,6\\}$ is another directed path from $1$ to $6$.\n"
      ]
    },
    {
      "cell_type": "markdown",
      "metadata": {
        "id": "PUbP9bUTi9my"
      },
      "source": [
        "**Definition (connectivity):**\n",
        "Let us consider a **directed** graph (**digraph**) $G=(\\mathcal{V},\\mathcal{E})$.\n",
        "- Two nodes $i,j\\in\\mathcal{V}$ are said to be **connected**\n",
        "if there exists a path from $i$ to $j$.\n",
        "- If any nodes $i,j\\in\\mathcal{V}$ are connected to each other,\n",
        "then the directed graph $G$ is said to be **strongly connected**.\n",
        "- A directed graph is said to be **weakly connected**\n",
        "if it is connected as an undirected graph by replacing all directed edges by undirected edges.\n",
        "\n",
        "(Note) If $G$ is **undirected**, we just say **connected** instead of strongly connected.\n"
      ]
    },
    {
      "cell_type": "markdown",
      "metadata": {
        "id": "ToTr_JKsjyfp"
      },
      "source": [
        "**Example:**\n",
        "Graph `G1`"
      ]
    },
    {
      "cell_type": "code",
      "metadata": {
        "colab": {
          "base_uri": "https://localhost:8080/",
          "height": 319
        },
        "id": "NBAhLdKGc3AW",
        "outputId": "b6099a1a-7b93-43c4-bcaa-483540283e65"
      },
      "source": [
        "nx.draw(G1, node_size=1000, \n",
        "          node_color='orange', with_labels=True)"
      ],
      "execution_count": null,
      "outputs": [
        {
          "output_type": "display_data",
          "data": {
            "image/png": "[encoded data removed]",
            "text/plain": [
              "<Figure size 432x288 with 1 Axes>"
            ]
          },
          "metadata": {}
        }
      ]
    },
    {
      "cell_type": "markdown",
      "metadata": {
        "id": "mUvZCaF9kDg0"
      },
      "source": [
        "`G1` is not strongly connected\n",
        "since there is no path from $2$ to the other nodes, but it is **weakly connected**."
      ]
    },
    {
      "cell_type": "markdown",
      "metadata": {
        "id": "z5SRT_dNkPI-"
      },
      "source": [
        "**Example:** Grpah `G3`"
      ]
    },
    {
      "cell_type": "code",
      "metadata": {
        "colab": {
          "base_uri": "https://localhost:8080/",
          "height": 319
        },
        "id": "anbtxdX0kAkK",
        "outputId": "12f59d68-5e84-4807-8e06-ddbcfee0b167"
      },
      "source": [
        "nx.draw(G3, node_size=1000, \n",
        "          node_color='orange', with_labels=True)"
      ],
      "execution_count": null,
      "outputs": [
        {
          "output_type": "display_data",
          "data": {
            "image/png": "[encoded data removed]",
            "text/plain": [
              "<Figure size 432x288 with 1 Axes>"
            ]
          },
          "metadata": {}
        }
      ]
    },
    {
      "cell_type": "markdown",
      "metadata": {
        "id": "xPmsRO36kURN"
      },
      "source": [
        "`G3` is **strongly connected**. (How to check? Use graph Laplacian, which we will see later)"
      ]
    },
    {
      "cell_type": "markdown",
      "metadata": {
        "id": "lXh1sySfmsm7"
      },
      "source": [
        "**Definition (directed tree):**\n",
        "A **directed tree** is a directed graph that has the following properties:\n",
        "- there is one node called the **root** whose in-degree is zero.\n",
        "- all nodes but the root have **in-degree one**.\n",
        "- there exists a directed path from the root to each node.\n",
        "\n"
      ]
    },
    {
      "cell_type": "markdown",
      "metadata": {
        "id": "9WXGvOAInCgm"
      },
      "source": [
        "**Example:** Draw a directed tree by Python. For a directe tree, we use `graphviz_layout` function that gives a beautiful position of\n",
        "the nodes."
      ]
    },
    {
      "cell_type": "code",
      "metadata": {
        "colab": {
          "base_uri": "https://localhost:8080/",
          "height": 319
        },
        "id": "U1dYBHmwkggY",
        "outputId": "781d8946-5ec3-49cf-8003-0f10dcd2ca00"
      },
      "source": [
        "from networkx.drawing.nx_pydot import graphviz_layout\n",
        "G4 = nx.DiGraph()\n",
        "V = [1,2,3,4,5]\n",
        "E = [(1,2),(1,3),(2,4),(2,5),(5,6)]\n",
        "G4.add_nodes_from(V)\n",
        "G4.add_edges_from(E)\n",
        "pos = graphviz_layout(G4, prog=\"dot\")\n",
        "nx.draw(G4, pos, node_size=1000, \n",
        "          node_color='orange', with_labels=True)"
      ],
      "execution_count": null,
      "outputs": [
        {
          "output_type": "display_data",
          "data": {
            "image/png": "[encoded data removed]",
            "text/plain": [
              "<Figure size 432x288 with 1 Axes>"
            ]
          },
          "metadata": {}
        }
      ]
    },
    {
      "cell_type": "markdown",
      "metadata": {
        "id": "-PvXFsksnkBr"
      },
      "source": [
        "### 2.3.3 Spanning Tree\n",
        "\n",
        "**Definition (spanning tree):**\n",
        "Let us consider a graph $G=(\\mathcal{V},\\mathcal{E})$,\n",
        "and another graph $G'=(\\mathcal{V}',\\mathcal{E}')$.\n",
        "- If $G$ and $G'$ satisfy\n",
        "$\\mathcal{V}'\\subset\\mathcal{V}$ and $\\mathcal{E}'\\subset\\mathcal{E}$,\n",
        "then we say $G'$ is a **subgraph** of $G$,\n",
        "and write $G'\\subset G$.\n",
        "- In particular, if $G'\\subset G$ and $\\mathcal{V}'=\\mathcal{V}$,\n",
        "then we call $G'$ a **spanning subgraph** of $G$.\n",
        "- A **spanning tree** is a spanning subgraph that is a (directed) tree."
      ]
    },
    {
      "cell_type": "markdown",
      "metadata": {
        "id": "kH9yOQFloG7_"
      },
      "source": [
        "**Example:**\n",
        "With Python, you can easily find a spanning tree for a given directed or undirected graph.\n",
        "Let us consider Zachary's graph `G2`."
      ]
    },
    {
      "cell_type": "code",
      "metadata": {
        "colab": {
          "base_uri": "https://localhost:8080/",
          "height": 319
        },
        "id": "2ShYYS7vkCWw",
        "outputId": "083a2346-3645-43f7-8b18-c48515beb644"
      },
      "source": [
        "T = nx.minimum_spanning_tree(G2)\n",
        "pos = graphviz_layout(G2, prog=\"dot\")\n",
        "nx.draw(T, pos, node_size=500, \n",
        "          node_color='orange', with_labels=True)"
      ],
      "execution_count": null,
      "outputs": [
        {
          "output_type": "display_data",
          "data": {
            "image/png": "[encoded data removed]",
            "text/plain": [
              "<Figure size 432x288 with 1 Axes>"
            ]
          },
          "metadata": {}
        }
      ]
    },
    {
      "cell_type": "markdown",
      "metadata": {
        "id": "mJAceIxgpTTQ"
      },
      "source": [
        "The function `minimum_spanning_tree` in NetworkX computes\n",
        "the **minimum spanning tree** that is a spanning tree with\n",
        "the minimum number of edges."
      ]
    },
    {
      "cell_type": "markdown",
      "metadata": {
        "id": "2tQ3Ownzpk79"
      },
      "source": [
        "### 2.3.4 Graph Laplacian\n",
        "\n",
        "We here consider matrix representations of a graph.\n",
        "\n",
        "**Definition (adjacency matrix):**\n",
        "The **adjacency matrix** $A$ of a graph $G=(\\mathcal{V},\\mathcal{E})$ is defined by\n",
        "\n",
        "$$\n",
        " a_{ij} = \\begin{cases}1,& \\text{if}~~ (i,j)\\in\\mathcal{E}\\\\ 0, & \\text{otherwise}\\end{cases}\n",
        "$$\n",
        "\n",
        "where $a_{ij}$ is the $(i,j)$-th element of matrix $A$.\n",
        "\n",
        "- If the number of nodes is $n$, the size of adjacency matrix becomes $n\\times n$.\n",
        "- The adjacency matrix indicates that \n",
        "  - if there **exists an edge** from $i$ to $j$, then\n",
        "$a_{ij}$ is $1$, \n",
        "  - if no link from $i$ to $j$, then $a_{ij}=0$.\n",
        "- For any **undirected** graph, its adjacency matrix is a **symmetric** matrix,\n",
        "since if $(i,j)\\in\\mathcal{E}$ then $(j,i)\\in\\mathcal{E}$ always holds.\n",
        "- For a directed graph, its adjacency matrix is not necessarily symmetric.\n",
        "\n"
      ]
    },
    {
      "cell_type": "markdown",
      "metadata": {
        "id": "7VjEeRHVqrNM"
      },
      "source": [
        "**Defintion (degree matrix):**\n",
        "For a graph $G=(\\mathcal{V},\\mathcal{E})$,\n",
        "the **degree matrix** $D$ is \n",
        "a diagonal matrix whose $(i,i)$-th element is the **in-degree** (or the **degree** for an **undirected** graph)\n",
        "$d_i^{\\mathrm{in}}$ of node $i\\in\\mathcal{V}$, that is,\n",
        "\n",
        "$$\n",
        " D := \\mathrm{diag}(d_1^{\\mathrm{in}},d_2^{\\mathrm{in}},\\ldots,d_n^{\\mathrm{in}})=\n",
        "  \\begin{bmatrix}\n",
        "  d_1^{\\mathrm{in}} & 0 & \\ldots & 0\\\\ \n",
        "  0 & d_2^{\\mathrm{in}} & \\ddots & \\vdots\\\\\n",
        "  \\vdots & \\ddots & \\ddots & 0\\\\\n",
        "  0 & \\ldots & 0 & d_n^{\\mathrm{in}}\n",
        " \\end{bmatrix}\n",
        "$$\n",
        "\n",
        "**Definition (graph Laplacian):**\n",
        "The **graph Laplacian** $L$ of a graph $G=(\\mathcal{V},\\mathcal{E})$ is defined by\n",
        "\n",
        "$$\n",
        " L := D - A,\n",
        "$$\n",
        "\n",
        "where $A$ is the **adjacency matrix** of $G$, and \n",
        "$D$ is the **degree matrix**."
      ]
    },
    {
      "cell_type": "markdown",
      "metadata": {
        "id": "nMV_Z3FxrYLk"
      },
      "source": [
        "**Lemma 2.1**\n",
        "For any undirected graph $G$, its graph Laplacian is symmetric."
      ]
    },
    {
      "cell_type": "markdown",
      "metadata": {
        "id": "x39_FYpQrd-D"
      },
      "source": [
        "**Example:**\n",
        "In Python, you can easily obtain the adjacency matrix and the graph Laplacian using\n",
        "functions in NetworkX.\n",
        "Let us first compute the adjacency matrix of the directed graph `G1`\n",
        "using `adjacency_matrix` function.\n",
        "- **Note:** In Python, the adjacency matrix is defined as $a_{ij}=1$ if $(i,j)\\in\\mathcal{E}$, which is the **transpose** of $A$ defined above.\n"
      ]
    },
    {
      "cell_type": "code",
      "metadata": {
        "colab": {
          "base_uri": "https://localhost:8080/"
        },
        "id": "n-V2LIHcoc7u",
        "outputId": "01387c4a-0cb9-4aa2-a0e4-9b34c86cc5d9"
      },
      "source": [
        "A1 = nx.adjacency_matrix(G1).T # Adjacency matrix\n",
        "print(A1)"
      ],
      "execution_count": null,
      "outputs": [
        {
          "output_type": "stream",
          "name": "stdout",
          "text": [
            "  (1, 0)\t1\n",
            "  (2, 0)\t1\n",
            "  (1, 2)\t1\n",
            "  (3, 2)\t1\n",
            "  (0, 3)\t1\n"
          ]
        }
      ]
    },
    {
      "cell_type": "markdown",
      "metadata": {
        "id": "X2QKDmJau0Mv"
      },
      "source": [
        "- This is **sparse matrix representation** of the adjacency matrix,\n",
        "where only the **nonzero** elements in the matrix are shown.\n",
        "- For example, `(0, 1) 1` indicates there is an edge from node `0` to node `1`,\n",
        "  - **Note:** In Python, the index starts from `0` not `1`, which is the same as C (or C++), but different from MATLAB.\n",
        "- Also we can see there is no edge from `0` to `3`.\n",
        "- The adjacency matrix in a usual matrix form is also obtained\n",
        "by using `todense` function.\n"
      ]
    },
    {
      "cell_type": "code",
      "metadata": {
        "colab": {
          "base_uri": "https://localhost:8080/"
        },
        "id": "BkW-512-ru_y",
        "outputId": "1096be4a-6147-4a23-b39e-e31ed87e1406"
      },
      "source": [
        "print(A1.todense())"
      ],
      "execution_count": null,
      "outputs": [
        {
          "output_type": "stream",
          "name": "stdout",
          "text": [
            "[[0 0 0 1]\n",
            " [1 0 1 0]\n",
            " [1 0 0 0]\n",
            " [0 0 1 0]]\n"
          ]
        }
      ]
    },
    {
      "cell_type": "markdown",
      "metadata": {
        "id": "AZDwNOspwnAI"
      },
      "source": [
        "We also compute the graph Laplacian as follows:"
      ]
    },
    {
      "cell_type": "code",
      "metadata": {
        "colab": {
          "base_uri": "https://localhost:8080/"
        },
        "id": "K0WGodd1vWif",
        "outputId": "2e4d4206-13f7-49db-f5f1-7363f48f5308"
      },
      "source": [
        "G1_degree = [di for (i,di) in G1.in_degree()] # In-degrees\n",
        "D1 = np.diag(G1_degree) # Degree matrix D\n",
        "L1 = D1 - A1 # graph Laplacian L\n",
        "print(L1)"
      ],
      "execution_count": null,
      "outputs": [
        {
          "output_type": "stream",
          "name": "stdout",
          "text": [
            "[[ 1  0  0 -1]\n",
            " [-1  2 -1  0]\n",
            " [-1  0  1  0]\n",
            " [ 0  0 -1  1]]\n"
          ]
        }
      ]
    },
    {
      "cell_type": "markdown",
      "metadata": {
        "id": "RG7UKNoawOPE"
      },
      "source": [
        "Also, we compute the graph Laplacian of the undirected graph `G2` (Karate Club):\n"
      ]
    },
    {
      "cell_type": "code",
      "metadata": {
        "colab": {
          "base_uri": "https://localhost:8080/"
        },
        "id": "AAP2XqvTz6Nj",
        "outputId": "3959ed06-2989-466b-9919-e973347cc37b"
      },
      "source": [
        "A2 = nx.adjacency_matrix(G2).T # Adjacency matrix A\n",
        "G2_degree = [di for (i,di) in G2.degree()] # Degrees\n",
        "D2 = np.diag(G2_degree) # Degree matrix D\n",
        "L2 = D2 - A2 # graph Laplacian L\n",
        "print(L2)"
      ],
      "execution_count": null,
      "outputs": [
        {
          "output_type": "stream",
          "name": "stdout",
          "text": [
            "[[16 -1 -1 ... -1  0  0]\n",
            " [-1  9 -1 ...  0  0  0]\n",
            " [-1 -1 10 ...  0 -1  0]\n",
            " ...\n",
            " [-1  0  0 ...  6 -1 -1]\n",
            " [ 0  0 -1 ... -1 12 -1]\n",
            " [ 0  0  0 ... -1 -1 17]]\n"
          ]
        }
      ]
    },
    {
      "cell_type": "markdown",
      "metadata": {
        "id": "6f6zeSZQ5vQO"
      },
      "source": [
        "**Theorem 2.18**\n",
        "Let $L\\in \\mathbb{R}^{n\\times n}$ be the graph Laplacian of a graph $G$.\n",
        "1. The graph Laplacian $L$ has **at least one eigenvalue of 0**, and \n",
        "${\\mathbf 1}_n=[1 \\ 1 \\ \\cdots \\ 1]^\\top\\in\\mathbb{R}^n$ is an eigenvector of eigenvalue 0.\n",
        "That is,  $L{\\mathbf 1}_n=0$ holds.\n",
        "2. $\\mathrm{rank}(L) \\leq n-1$.\n",
        "3. The eigenvalues of $L$ except for $0$ lie in the **open right half plane** of $\\mathbb{C}$.\n",
        "4. The eigenvalue 0 of $L$ is **semi-simple** (i.e., algebraic multiplicity $=$ geometric multiplicity).\n",
        "5. The eigenvalue 0 of $L$ is simple (i.e., algebraic multiplicity  $=$ geometric multiplicity $=1$) if and only if $\\mathrm{rank}(L)=n-1$.\n",
        "\n"
      ]
    },
    {
      "cell_type": "markdown",
      "metadata": {
        "id": "8Aeub3d27kJe"
      },
      "source": [
        "**Example:** Let us consider the graph Laplacian of `G1`, and compute the eigenvalues and eigenvectors."
      ]
    },
    {
      "cell_type": "code",
      "metadata": {
        "id": "RqpBFBiaz9EV"
      },
      "source": [
        "s, V = LA.eig(L1) # eigs of the graph Laplacian L1 of G1"
      ],
      "execution_count": null,
      "outputs": []
    },
    {
      "cell_type": "markdown",
      "metadata": {
        "id": "60W6GGDX7yui"
      },
      "source": [
        "The eigenvalues of `G1` are"
      ]
    },
    {
      "cell_type": "code",
      "metadata": {
        "colab": {
          "base_uri": "https://localhost:8080/"
        },
        "id": "GA_kjZF_7PzF",
        "outputId": "463f0999-f173-450c-eada-b0794693ba08"
      },
      "source": [
        "print(s)\n"
      ],
      "execution_count": null,
      "outputs": [
        {
          "output_type": "stream",
          "name": "stdout",
          "text": [
            "[2.00000000e+00+0.j        8.88365811e-17+0.j\n",
            " 1.50000000e+00+0.8660254j 1.50000000e+00-0.8660254j]\n"
          ]
        }
      ]
    },
    {
      "cell_type": "markdown",
      "metadata": {
        "id": "kl59W3uc74hx"
      },
      "source": [
        "We can see that one eigenvalue is **almost zero** and the other lie in the **open right half plane**."
      ]
    },
    {
      "cell_type": "markdown",
      "metadata": {
        "id": "m-6tRuYF85JW"
      },
      "source": [
        "Then let's compute $L\\mathbf{1}_n$."
      ]
    },
    {
      "cell_type": "code",
      "metadata": {
        "colab": {
          "base_uri": "https://localhost:8080/"
        },
        "id": "LaE6uqAW83wR",
        "outputId": "a868fbee-95c6-40fd-d49d-8bea51832af3"
      },
      "source": [
        "np.dot(L1,np.ones(4))"
      ],
      "execution_count": null,
      "outputs": [
        {
          "output_type": "execute_result",
          "data": {
            "text/plain": [
              "matrix([[0., 0., 0., 0.]])"
            ]
          },
          "metadata": {},
          "execution_count": 97
        }
      ]
    },
    {
      "cell_type": "markdown",
      "metadata": {
        "id": "8fktz3GlEkXE"
      },
      "source": [
        "This shows that $L\\mathbf{1}_n = 0$."
      ]
    },
    {
      "cell_type": "markdown",
      "metadata": {
        "id": "iCvMNlV7ErI7"
      },
      "source": [
        "**Theorem 2.19**\n",
        "A graph $G$ is balanced if and only if ${\\mathbf 1}_n^\\top$ is a left eigenvector\n",
        "associated with the eigenvalue 0 of the graph Laplacian.\n",
        "In other words, $L^\\top {\\mathbf 1}_n = 0$ holds.\n"
      ]
    },
    {
      "cell_type": "markdown",
      "metadata": {
        "id": "Ut5vOwhXFAAU"
      },
      "source": [
        "Let us consider the balanced graph `G3`.\n",
        "The graph Laplacian of `G3` is obtained by"
      ]
    },
    {
      "cell_type": "code",
      "metadata": {
        "colab": {
          "base_uri": "https://localhost:8080/"
        },
        "id": "lLQC0hOjEok5",
        "outputId": "dcaf0a80-5d20-42b0-fb40-19289b836102"
      },
      "source": [
        "A3 = nx.adjacency_matrix(G3).T # Adjacency matrix A\n",
        "G3_degree = [di for (i,di) in G3.in_degree()] # Degrees\n",
        "D3 = np.diag(G3_degree) # Degree matrix D\n",
        "L3 = D3 - A3 # graph Laplacian L\n",
        "print(L3)"
      ],
      "execution_count": null,
      "outputs": [
        {
          "output_type": "stream",
          "name": "stdout",
          "text": [
            "[[ 1  0  0  0  0 -1]\n",
            " [-1  2 -1  0  0  0]\n",
            " [ 0 -1  2 -1  0  0]\n",
            " [ 0 -1  0  2 -1  0]\n",
            " [ 0  0 -1  0  1  0]\n",
            " [ 0  0  0 -1  0  1]]\n"
          ]
        }
      ]
    },
    {
      "cell_type": "markdown",
      "metadata": {
        "id": "MQk1YBM4GB8-"
      },
      "source": [
        "Check if $L\\mathbf{1}_n=0$ and $L^\\top\\mathbf{1}_n=0$ hold."
      ]
    },
    {
      "cell_type": "code",
      "metadata": {
        "colab": {
          "base_uri": "https://localhost:8080/"
        },
        "id": "7tBQCA7lFOlU",
        "outputId": "0f1b6d85-dd13-4157-9d75-c9572dfeced9"
      },
      "source": [
        "print(np.dot(L3,np.ones(6)))\n",
        "print(np.dot(L3.T,np.ones(6)))\n"
      ],
      "execution_count": null,
      "outputs": [
        {
          "output_type": "stream",
          "name": "stdout",
          "text": [
            "[[0. 0. 0. 0. 0. 0.]]\n",
            "[[0. 0. 0. 0. 0. 0.]]\n"
          ]
        }
      ]
    },
    {
      "cell_type": "markdown",
      "metadata": {
        "id": "8CagbPYyGOi5"
      },
      "source": [
        "### 2.3.5 Perron matrix\n",
        "\n",
        "**Definition (Perron matrix):**\n",
        "Let us consider a graph $G=(\\mathcal{V},\\mathcal{E})$ and its graph Laplacian\n",
        "$L  \\in \\mathbb{R}^{n \\times n}$. We define the **Perron matrix**\n",
        "$P \\in \\mathbb{R}^{n \\times n}$ of $G$ with a parameter $\\epsilon>0$ by\n",
        "\n",
        "$$\n",
        " P := I - \\epsilon L.\n",
        "$$\n"
      ]
    },
    {
      "cell_type": "markdown",
      "metadata": {
        "id": "Q-iItfgaHYHg"
      },
      "source": [
        "**Theorem 2.20**\n",
        "Let $P\\in \\mathbb{R}^{n \\times n}$ be the Perron matrix\n",
        "with $\\epsilon>0$ of a graph $G$.\n",
        "The following properties hold:\n",
        "\n",
        "1. $P$ has at least one **eigenvalue of 1**,\n",
        "and **${\\mathbf 1}_n$ is an eigenvector** associated with eigenvalue $1$, that is, $P {\\mathbf 1}_n = {\\mathbf 1}_n$ holds.\n",
        "2. Assume $\\epsilon\\Delta<1$ holds where $\\Delta$ is the maximum in-degree of graph $G$. Then the eigenvalues of $P$ except for $1$ lie in the **open unit circle** of $\\mathbb{C}$.\n",
        "3. The eigenvalue 1 of $P$ is **semi-simple**."
      ]
    },
    {
      "cell_type": "markdown",
      "metadata": {
        "id": "pujHQr29IE93"
      },
      "source": [
        "**Example:**\n",
        "Let's compute the Perron matrix for the balanced graph `G3` and see the eigenvalues."
      ]
    },
    {
      "cell_type": "code",
      "metadata": {
        "colab": {
          "base_uri": "https://localhost:8080/"
        },
        "id": "3qrhvMKVFgtn",
        "outputId": "60b7141d-973c-4510-db3d-65ac008ac11f"
      },
      "source": [
        "epsilon = 0.1\n",
        "P3 = np.eye(6) - epsilon * L3\n",
        "s, V = LA.eig(P3)\n",
        "print(s)"
      ],
      "execution_count": null,
      "outputs": [
        {
          "output_type": "stream",
          "name": "stdout",
          "text": [
            "[1.        +0.j         0.74810872+0.06666098j 0.74810872-0.06666098j\n",
            " 0.90189128+0.06025654j 0.90189128-0.06025654j 0.8       +0.j        ]\n"
          ]
        }
      ]
    },
    {
      "cell_type": "markdown",
      "metadata": {
        "id": "-r7H3Yr7Iz7a"
      },
      "source": [
        "We can see that one eigenvalue is one. To check if the other eigenvalues line in the open unit circle, let's compute their absolute values:"
      ]
    },
    {
      "cell_type": "code",
      "metadata": {
        "colab": {
          "base_uri": "https://localhost:8080/"
        },
        "id": "TkD37QRJFvEG",
        "outputId": "d1f8ee39-698d-4cd1-de66-bf6ee8104255"
      },
      "source": [
        "print(np.abs(s))"
      ],
      "execution_count": null,
      "outputs": [
        {
          "output_type": "stream",
          "name": "stdout",
          "text": [
            "[1.         0.7510728  0.7510728  0.90390195 0.90390195 0.8       ]\n"
          ]
        }
      ]
    },
    {
      "cell_type": "markdown",
      "metadata": {
        "id": "Z3BlyiivJGGL"
      },
      "source": [
        "We can see they are in the open unit circle."
      ]
    },
    {
      "cell_type": "markdown",
      "metadata": {
        "id": "MjSjoGiPJVF0"
      },
      "source": [
        "### 2.3.6 Graph Analysis with Graph Laplacian and Perron Matrix\n",
        "We can draw some important information of a graph from the eigenvalues of the graph Laplacian\n",
        "and the Perron matrix.\n",
        "\n",
        "**Theorem 2.21 (spanning tree)**\n",
        "Let $G$ be a **directed graph**. The following statements are equivalent:\n",
        "1. $G$ has a **spanning tree**.\n",
        "2. The graph Laplacian $L$ of $G$ has a **simple eigenvalue of 0**.\n",
        "3. The Perron matrix $P$ of $G$ has a **simple eigenvalue of 1**.\n",
        "\n",
        "**Corollary 2.1**\n",
        "Let $G$ be an **undirected graph**. The following statements are equivalent:\n",
        "1. $G$ is **connected**.\n",
        "2. The graph Laplacian $L$ of $G$ has a **simple eigenvalue of 0**.\n",
        "3. The Perron matrix $P$ of $G$ has a **simple eigenvalue of 1**."
      ]
    },
    {
      "cell_type": "markdown",
      "metadata": {
        "id": "U4poGcziLNDV"
      },
      "source": [
        "**Example:**\n",
        "Let us consider the directed graph `G1`.\n",
        "The graph Laplacian `L1` has a simple eigenvalue of 0:"
      ]
    },
    {
      "cell_type": "code",
      "metadata": {
        "colab": {
          "base_uri": "https://localhost:8080/",
          "height": 336
        },
        "id": "jkzDMY97LhU4",
        "outputId": "6198d4a3-103b-437f-f91f-70e38cdcddcf"
      },
      "source": [
        "nx.draw(G1, node_size=1000, \n",
        "          node_color='orange', with_labels=True)\n",
        "s, V = LA.eig(L1)\n",
        "print(s)"
      ],
      "execution_count": null,
      "outputs": [
        {
          "output_type": "stream",
          "name": "stdout",
          "text": [
            "[2.00e+00+0.j   8.88e-17+0.j   1.50e+00+0.87j 1.50e+00-0.87j]\n"
          ]
        },
        {
          "output_type": "display_data",
          "data": {
            "image/png": "[encoded data removed]",
            "text/plain": [
              "<Figure size 432x288 with 1 Axes>"
            ]
          },
          "metadata": {}
        }
      ]
    },
    {
      "cell_type": "markdown",
      "metadata": {
        "id": "X93hk1J5Lm9d"
      },
      "source": [
        "Therefore, from **Theorem 2.21**, `G1` has a spanning tree.\n",
        "Actually, the path {4, 1, 3, 2} is a spanning tree."
      ]
    },
    {
      "cell_type": "markdown",
      "metadata": {
        "id": "W79xX1GtNZLI"
      },
      "source": [
        "Finally, we introduce some useful facts on the graph Laplacian and the Perron matrix.\n",
        "\n",
        "**Lemma 2.5**\n",
        "Consider a graph $G$ which has a spanning tree. \n",
        "Let $\\Delta$ be the maximum in-degree of $G$.\n",
        "\n",
        "1. Let $L\\in{\\mathbb R}^{n\\times n}$ be the graph Laplacian\n",
        "and \n",
        "let $v_1\\in{\\mathbb R}^{1\\times n}$ be a left eigenvector of $L$ associated with its zero eigenvalue. \n",
        "Then\n",
        "\n",
        "$$\n",
        "\\lim_{t\\to \\infty} e^{-Lt} = \\left(\\frac{1}{v_1{\\mathbf 1}_n  }\\right) {\\mathbf 1}_n v_1.\n",
        "$$\n",
        "\n",
        "2. Let $P\\in{\\mathbb R}^{n\\times n}$ be the Perron matrix \n",
        "for an arbitrarily given  $\\epsilon>0$,\n",
        "and \n",
        "let $w_1\\in{\\mathbb R}^{1\\times n}$ be a left eigenvector of $P$ associated with the eigenvalue 1. \n",
        "If $\\epsilon \\Delta < 1$, then\n",
        "\n",
        "$$\n",
        "\\lim_{k\\to \\infty} P^k = \\left(\\frac{1}{w_1{\\mathbf 1}_n }\\right) {\\mathbf 1}_n w_1.\n",
        "$$\n"
      ]
    },
    {
      "cell_type": "markdown",
      "metadata": {
        "id": "XwqG7OFfOwkZ"
      },
      "source": [
        "**Example:**\n",
        "Let's check **Lemma 2.5** by using the balanced graph `G3`.\n",
        "First, we compute the left eigenvectors of the graph Laplacian `L3`\n",
        "by the transpose of `L3`:"
      ]
    },
    {
      "cell_type": "code",
      "metadata": {
        "colab": {
          "base_uri": "https://localhost:8080/"
        },
        "id": "U9hqhFyvNYNF",
        "outputId": "549bbcb4-aa2d-4ee6-ec92-f3b7841e5179"
      },
      "source": [
        "l, W = LA.eig(L3.T)\n",
        "print(l)\n",
        "print(W)"
      ],
      "execution_count": null,
      "outputs": [
        {
          "output_type": "stream",
          "name": "stdout",
          "text": [
            "[2.09e-16+0.j   9.81e-01+0.6j  9.81e-01-0.6j  2.52e+00+0.67j\n",
            " 2.52e+00-0.67j 2.00e+00+0.j  ]\n",
            "[[-0.41+0.j    0.01-0.4j   0.01+0.4j   0.26-0.05j  0.26+0.05j -0.41+0.j  ]\n",
            " [-0.41+0.j   -0.24-0.02j -0.24+0.02j -0.44-0.09j -0.44+0.09j  0.41+0.j  ]\n",
            " [-0.41+0.j   -0.42+0.02j -0.42-0.02j  0.57+0.j    0.57-0.j   -0.41+0.j  ]\n",
            " [-0.41+0.j    0.17+0.11j  0.17-0.11j -0.4 +0.34j -0.4 -0.34j  0.41+0.j  ]\n",
            " [-0.41+0.j   -0.18+0.29j -0.18-0.29j  0.14-0.29j  0.14+0.29j -0.41+0.j  ]\n",
            " [-0.41+0.j    0.67+0.j    0.67-0.j   -0.13+0.09j -0.13-0.09j  0.41+0.j  ]]\n"
          ]
        }
      ]
    },
    {
      "cell_type": "markdown",
      "metadata": {
        "id": "syX67d36UiwM"
      },
      "source": [
        "Now compute the matrix $\\left(\\frac{1}{v_1{\\mathbf 1}_n  }\\right) {\\mathbf 1}_n v_1$"
      ]
    },
    {
      "cell_type": "code",
      "metadata": {
        "colab": {
          "base_uri": "https://localhost:8080/"
        },
        "id": "m5Zwq9DGMbf7",
        "outputId": "8c33e44a-3036-44c2-f891-602e3cf655f8"
      },
      "source": [
        "v1 = np.matrix(W[:,0])\n",
        "one = np.matrix(np.ones(6))\n",
        "print(np.dot(v1,one)/np.dot(one,v1))"
      ],
      "execution_count": null,
      "outputs": [
        {
          "output_type": "stream",
          "name": "stdout",
          "text": [
            "[[0.17-0.j 0.17-0.j 0.17-0.j 0.17-0.j 0.17-0.j 0.17-0.j]\n",
            " [0.17-0.j 0.17-0.j 0.17-0.j 0.17-0.j 0.17-0.j 0.17-0.j]\n",
            " [0.17-0.j 0.17-0.j 0.17-0.j 0.17-0.j 0.17-0.j 0.17-0.j]\n",
            " [0.17-0.j 0.17-0.j 0.17-0.j 0.17-0.j 0.17-0.j 0.17-0.j]\n",
            " [0.17-0.j 0.17-0.j 0.17-0.j 0.17-0.j 0.17-0.j 0.17-0.j]\n",
            " [0.17-0.j 0.17-0.j 0.17-0.j 0.17-0.j 0.17-0.j 0.17-0.j]]\n"
          ]
        }
      ]
    },
    {
      "cell_type": "markdown",
      "metadata": {
        "id": "DWXzlANDUt2J"
      },
      "source": [
        "Then we compute $e^{-Lt}$ for $t=0,1,2,\\ldots,9$:"
      ]
    },
    {
      "cell_type": "code",
      "metadata": {
        "colab": {
          "base_uri": "https://localhost:8080/"
        },
        "id": "cSgXu-nUPbG7",
        "outputId": "d2519928-011b-4463-cad2-8f402d81e514"
      },
      "source": [
        "from scipy import linalg\n",
        "\n",
        "for t in range(10):\n",
        "  expLt = linalg.expm(-L3 * t)\n",
        "  print(t)\n",
        "  print(expLt)"
      ],
      "execution_count": null,
      "outputs": [
        {
          "output_type": "stream",
          "name": "stdout",
          "text": [
            "0\n",
            "[[1. 0. 0. 0. 0. 0.]\n",
            " [0. 1. 0. 0. 0. 0.]\n",
            " [0. 0. 1. 0. 0. 0.]\n",
            " [0. 0. 0. 1. 0. 0.]\n",
            " [0. 0. 0. 0. 1. 0.]\n",
            " [0. 0. 0. 0. 0. 1.]]\n",
            "1\n",
            "[[0.38 0.04 0.02 0.14 0.05 0.37]\n",
            " [0.27 0.25 0.18 0.12 0.04 0.15]\n",
            " [0.14 0.25 0.27 0.18 0.11 0.05]\n",
            " [0.12 0.21 0.18 0.2  0.25 0.04]\n",
            " [0.05 0.14 0.28 0.11 0.41 0.01]\n",
            " [0.04 0.12 0.07 0.25 0.14 0.38]]\n",
            "2\n",
            "[[0.19 0.11 0.09 0.19 0.13 0.29]\n",
            " [0.22 0.16 0.14 0.16 0.11 0.21]\n",
            " [0.19 0.19 0.19 0.16 0.14 0.13]\n",
            " [0.16 0.18 0.2  0.15 0.19 0.11]\n",
            " [0.13 0.19 0.24 0.14 0.24 0.07]\n",
            " [0.11 0.16 0.15 0.19 0.19 0.19]]\n",
            "3\n",
            "[[0.16 0.15 0.14 0.18 0.16 0.21]\n",
            " [0.18 0.16 0.15 0.17 0.15 0.2 ]\n",
            " [0.18 0.17 0.17 0.16 0.15 0.16]\n",
            " [0.17 0.17 0.18 0.16 0.17 0.15]\n",
            " [0.16 0.18 0.2  0.15 0.18 0.12]\n",
            " [0.15 0.17 0.17 0.17 0.18 0.16]]\n",
            "4\n",
            "[[0.16 0.16 0.16 0.17 0.17 0.18]\n",
            " [0.17 0.16 0.16 0.17 0.16 0.18]\n",
            " [0.17 0.17 0.16 0.17 0.16 0.17]\n",
            " [0.17 0.17 0.17 0.16 0.17 0.16]\n",
            " [0.17 0.17 0.18 0.16 0.17 0.15]\n",
            " [0.16 0.17 0.17 0.17 0.17 0.16]]\n",
            "5\n",
            "[[0.16 0.17 0.17 0.17 0.17 0.17]\n",
            " [0.17 0.17 0.16 0.17 0.17 0.17]\n",
            " [0.17 0.17 0.16 0.17 0.16 0.17]\n",
            " [0.17 0.17 0.17 0.17 0.17 0.17]\n",
            " [0.17 0.17 0.17 0.16 0.17 0.16]\n",
            " [0.17 0.17 0.17 0.17 0.17 0.16]]\n",
            "6\n",
            "[[0.17 0.17 0.17 0.17 0.17 0.16]\n",
            " [0.17 0.17 0.17 0.17 0.17 0.17]\n",
            " [0.17 0.17 0.17 0.17 0.17 0.17]\n",
            " [0.17 0.17 0.17 0.17 0.17 0.17]\n",
            " [0.17 0.17 0.17 0.17 0.17 0.17]\n",
            " [0.17 0.17 0.17 0.17 0.17 0.17]]\n",
            "7\n",
            "[[0.17 0.17 0.17 0.17 0.17 0.17]\n",
            " [0.17 0.17 0.17 0.17 0.17 0.17]\n",
            " [0.17 0.17 0.17 0.17 0.17 0.17]\n",
            " [0.17 0.17 0.17 0.17 0.17 0.17]\n",
            " [0.17 0.17 0.17 0.17 0.17 0.17]\n",
            " [0.17 0.17 0.17 0.17 0.17 0.17]]\n",
            "8\n",
            "[[0.17 0.17 0.17 0.17 0.17 0.17]\n",
            " [0.17 0.17 0.17 0.17 0.17 0.17]\n",
            " [0.17 0.17 0.17 0.17 0.17 0.17]\n",
            " [0.17 0.17 0.17 0.17 0.17 0.17]\n",
            " [0.17 0.17 0.17 0.17 0.17 0.17]\n",
            " [0.17 0.17 0.17 0.17 0.17 0.17]]\n",
            "9\n",
            "[[0.17 0.17 0.17 0.17 0.17 0.17]\n",
            " [0.17 0.17 0.17 0.17 0.17 0.17]\n",
            " [0.17 0.17 0.17 0.17 0.17 0.17]\n",
            " [0.17 0.17 0.17 0.17 0.17 0.17]\n",
            " [0.17 0.17 0.17 0.17 0.17 0.17]\n",
            " [0.17 0.17 0.17 0.17 0.17 0.17]]\n"
          ]
        }
      ]
    },
    {
      "cell_type": "markdown",
      "metadata": {
        "id": "1E60825vU4HU"
      },
      "source": [
        "It converges to $\\left(\\frac{1}{v_1{\\mathbf 1}_n  }\\right) {\\mathbf 1}_n v_1$ as mentioned in **Lemma 2.5**."
      ]
    },
    {
      "cell_type": "markdown",
      "metadata": {
        "id": "iYWyarPcVBeD"
      },
      "source": [
        "---\n",
        "\n",
        "# **That's it! Thank you for your kind attention!!**\n",
        "\n",
        "\n"
      ]
    },
    {
      "cell_type": "code",
      "metadata": {
        "id": "4HJRyQUgVHj3"
      },
      "source": [
        ""
      ],
      "execution_count": null,
      "outputs": []
    }
  ]
}